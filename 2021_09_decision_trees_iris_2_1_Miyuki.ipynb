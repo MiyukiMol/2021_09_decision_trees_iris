{
 "cells": [
  {
   "cell_type": "markdown",
   "id": "64cb445c",
   "metadata": {},
   "source": [
    "# Etude sur Decision Tree Classifier, Hyperparamètres et Botanique. Deuxième partie."
   ]
  },
  {
   "cell_type": "markdown",
   "id": "530d8c85",
   "metadata": {},
   "source": [
    "# 1 Cross validation \"Traditionnelle\""
   ]
  },
  {
   "cell_type": "markdown",
   "id": "21a62794",
   "metadata": {},
   "source": [
    "## Importation des librairies"
   ]
  },
  {
   "cell_type": "markdown",
   "id": "7d5f729b",
   "metadata": {},
   "source": [
    "Pour l'analyse des donnée, nous aurons besoin de la librairie \"pandas\" pour lire et manipuler les fichiers; la librairie \"numpy\" pour tous ceux qui est calcul mathématiques; et la librairie \"matplotlib.pyplot\" et \"seaborn\"pour la visualisation de données."
   ]
  },
  {
   "cell_type": "code",
   "execution_count": 1,
   "id": "558a4b2d",
   "metadata": {},
   "outputs": [],
   "source": [
    "import pandas as pd\n",
    "import numpy as np\n",
    "import matplotlib.pyplot as plt \n",
    "import seaborn as sns \n",
    "from sklearn.datasets import load_iris\n",
    "from sklearn import datasets, linear_model, model_selection\n",
    "from sklearn.model_selection import train_test_split\n",
    "from sklearn.tree import DecisionTreeClassifier, export_graphviz\n",
    "from sklearn.metrics import confusion_matrix"
   ]
  },
  {
   "cell_type": "markdown",
   "id": "3db5925e",
   "metadata": {},
   "source": [
    "## Chargement des données"
   ]
  },
  {
   "cell_type": "code",
   "execution_count": 2,
   "id": "3961b6a9",
   "metadata": {},
   "outputs": [
    {
     "data": {
      "text/plain": [
       "0    50\n",
       "1    50\n",
       "2    50\n",
       "Name: target, dtype: int64"
      ]
     },
     "execution_count": 2,
     "metadata": {},
     "output_type": "execute_result"
    }
   ],
   "source": [
    "iris = datasets.load_iris(as_frame=True)\n",
    "iris[\"target\"].value_counts()"
   ]
  },
  {
   "cell_type": "code",
   "execution_count": 3,
   "id": "c0dc6f04",
   "metadata": {},
   "outputs": [
    {
     "data": {
      "text/html": [
       "<div>\n",
       "<style scoped>\n",
       "    .dataframe tbody tr th:only-of-type {\n",
       "        vertical-align: middle;\n",
       "    }\n",
       "\n",
       "    .dataframe tbody tr th {\n",
       "        vertical-align: top;\n",
       "    }\n",
       "\n",
       "    .dataframe thead th {\n",
       "        text-align: right;\n",
       "    }\n",
       "</style>\n",
       "<table border=\"1\" class=\"dataframe\">\n",
       "  <thead>\n",
       "    <tr style=\"text-align: right;\">\n",
       "      <th></th>\n",
       "      <th>sepal length (cm)</th>\n",
       "      <th>sepal width (cm)</th>\n",
       "      <th>petal length (cm)</th>\n",
       "      <th>petal width (cm)</th>\n",
       "      <th>target</th>\n",
       "    </tr>\n",
       "  </thead>\n",
       "  <tbody>\n",
       "    <tr>\n",
       "      <th>0</th>\n",
       "      <td>5.1</td>\n",
       "      <td>3.5</td>\n",
       "      <td>1.4</td>\n",
       "      <td>0.2</td>\n",
       "      <td>0</td>\n",
       "    </tr>\n",
       "    <tr>\n",
       "      <th>1</th>\n",
       "      <td>4.9</td>\n",
       "      <td>3.0</td>\n",
       "      <td>1.4</td>\n",
       "      <td>0.2</td>\n",
       "      <td>0</td>\n",
       "    </tr>\n",
       "    <tr>\n",
       "      <th>2</th>\n",
       "      <td>4.7</td>\n",
       "      <td>3.2</td>\n",
       "      <td>1.3</td>\n",
       "      <td>0.2</td>\n",
       "      <td>0</td>\n",
       "    </tr>\n",
       "    <tr>\n",
       "      <th>3</th>\n",
       "      <td>4.6</td>\n",
       "      <td>3.1</td>\n",
       "      <td>1.5</td>\n",
       "      <td>0.2</td>\n",
       "      <td>0</td>\n",
       "    </tr>\n",
       "    <tr>\n",
       "      <th>4</th>\n",
       "      <td>5.0</td>\n",
       "      <td>3.6</td>\n",
       "      <td>1.4</td>\n",
       "      <td>0.2</td>\n",
       "      <td>0</td>\n",
       "    </tr>\n",
       "    <tr>\n",
       "      <th>...</th>\n",
       "      <td>...</td>\n",
       "      <td>...</td>\n",
       "      <td>...</td>\n",
       "      <td>...</td>\n",
       "      <td>...</td>\n",
       "    </tr>\n",
       "    <tr>\n",
       "      <th>145</th>\n",
       "      <td>6.7</td>\n",
       "      <td>3.0</td>\n",
       "      <td>5.2</td>\n",
       "      <td>2.3</td>\n",
       "      <td>2</td>\n",
       "    </tr>\n",
       "    <tr>\n",
       "      <th>146</th>\n",
       "      <td>6.3</td>\n",
       "      <td>2.5</td>\n",
       "      <td>5.0</td>\n",
       "      <td>1.9</td>\n",
       "      <td>2</td>\n",
       "    </tr>\n",
       "    <tr>\n",
       "      <th>147</th>\n",
       "      <td>6.5</td>\n",
       "      <td>3.0</td>\n",
       "      <td>5.2</td>\n",
       "      <td>2.0</td>\n",
       "      <td>2</td>\n",
       "    </tr>\n",
       "    <tr>\n",
       "      <th>148</th>\n",
       "      <td>6.2</td>\n",
       "      <td>3.4</td>\n",
       "      <td>5.4</td>\n",
       "      <td>2.3</td>\n",
       "      <td>2</td>\n",
       "    </tr>\n",
       "    <tr>\n",
       "      <th>149</th>\n",
       "      <td>5.9</td>\n",
       "      <td>3.0</td>\n",
       "      <td>5.1</td>\n",
       "      <td>1.8</td>\n",
       "      <td>2</td>\n",
       "    </tr>\n",
       "  </tbody>\n",
       "</table>\n",
       "<p>150 rows × 5 columns</p>\n",
       "</div>"
      ],
      "text/plain": [
       "     sepal length (cm)  sepal width (cm)  petal length (cm)  petal width (cm)  \\\n",
       "0                  5.1               3.5                1.4               0.2   \n",
       "1                  4.9               3.0                1.4               0.2   \n",
       "2                  4.7               3.2                1.3               0.2   \n",
       "3                  4.6               3.1                1.5               0.2   \n",
       "4                  5.0               3.6                1.4               0.2   \n",
       "..                 ...               ...                ...               ...   \n",
       "145                6.7               3.0                5.2               2.3   \n",
       "146                6.3               2.5                5.0               1.9   \n",
       "147                6.5               3.0                5.2               2.0   \n",
       "148                6.2               3.4                5.4               2.3   \n",
       "149                5.9               3.0                5.1               1.8   \n",
       "\n",
       "     target  \n",
       "0         0  \n",
       "1         0  \n",
       "2         0  \n",
       "3         0  \n",
       "4         0  \n",
       "..      ...  \n",
       "145       2  \n",
       "146       2  \n",
       "147       2  \n",
       "148       2  \n",
       "149       2  \n",
       "\n",
       "[150 rows x 5 columns]"
      ]
     },
     "execution_count": 3,
     "metadata": {},
     "output_type": "execute_result"
    }
   ],
   "source": [
    "iris_mod = iris.frame.copy()\n",
    "iris_mod"
   ]
  },
  {
   "cell_type": "code",
   "execution_count": 4,
   "id": "f93692e9",
   "metadata": {},
   "outputs": [],
   "source": [
    "data = iris_mod.iloc[:,2:-1]"
   ]
  },
  {
   "cell_type": "code",
   "execution_count": 5,
   "id": "0d83a93d",
   "metadata": {},
   "outputs": [
    {
     "data": {
      "text/html": [
       "<div>\n",
       "<style scoped>\n",
       "    .dataframe tbody tr th:only-of-type {\n",
       "        vertical-align: middle;\n",
       "    }\n",
       "\n",
       "    .dataframe tbody tr th {\n",
       "        vertical-align: top;\n",
       "    }\n",
       "\n",
       "    .dataframe thead th {\n",
       "        text-align: right;\n",
       "    }\n",
       "</style>\n",
       "<table border=\"1\" class=\"dataframe\">\n",
       "  <thead>\n",
       "    <tr style=\"text-align: right;\">\n",
       "      <th></th>\n",
       "      <th>petal length (cm)</th>\n",
       "      <th>petal width (cm)</th>\n",
       "    </tr>\n",
       "  </thead>\n",
       "  <tbody>\n",
       "    <tr>\n",
       "      <th>0</th>\n",
       "      <td>1.4</td>\n",
       "      <td>0.2</td>\n",
       "    </tr>\n",
       "    <tr>\n",
       "      <th>1</th>\n",
       "      <td>1.4</td>\n",
       "      <td>0.2</td>\n",
       "    </tr>\n",
       "    <tr>\n",
       "      <th>2</th>\n",
       "      <td>1.3</td>\n",
       "      <td>0.2</td>\n",
       "    </tr>\n",
       "    <tr>\n",
       "      <th>3</th>\n",
       "      <td>1.5</td>\n",
       "      <td>0.2</td>\n",
       "    </tr>\n",
       "    <tr>\n",
       "      <th>4</th>\n",
       "      <td>1.4</td>\n",
       "      <td>0.2</td>\n",
       "    </tr>\n",
       "    <tr>\n",
       "      <th>...</th>\n",
       "      <td>...</td>\n",
       "      <td>...</td>\n",
       "    </tr>\n",
       "    <tr>\n",
       "      <th>145</th>\n",
       "      <td>5.2</td>\n",
       "      <td>2.3</td>\n",
       "    </tr>\n",
       "    <tr>\n",
       "      <th>146</th>\n",
       "      <td>5.0</td>\n",
       "      <td>1.9</td>\n",
       "    </tr>\n",
       "    <tr>\n",
       "      <th>147</th>\n",
       "      <td>5.2</td>\n",
       "      <td>2.0</td>\n",
       "    </tr>\n",
       "    <tr>\n",
       "      <th>148</th>\n",
       "      <td>5.4</td>\n",
       "      <td>2.3</td>\n",
       "    </tr>\n",
       "    <tr>\n",
       "      <th>149</th>\n",
       "      <td>5.1</td>\n",
       "      <td>1.8</td>\n",
       "    </tr>\n",
       "  </tbody>\n",
       "</table>\n",
       "<p>150 rows × 2 columns</p>\n",
       "</div>"
      ],
      "text/plain": [
       "     petal length (cm)  petal width (cm)\n",
       "0                  1.4               0.2\n",
       "1                  1.4               0.2\n",
       "2                  1.3               0.2\n",
       "3                  1.5               0.2\n",
       "4                  1.4               0.2\n",
       "..                 ...               ...\n",
       "145                5.2               2.3\n",
       "146                5.0               1.9\n",
       "147                5.2               2.0\n",
       "148                5.4               2.3\n",
       "149                5.1               1.8\n",
       "\n",
       "[150 rows x 2 columns]"
      ]
     },
     "execution_count": 5,
     "metadata": {},
     "output_type": "execute_result"
    }
   ],
   "source": [
    "data"
   ]
  },
  {
   "cell_type": "code",
   "execution_count": 6,
   "id": "f3f9e404",
   "metadata": {},
   "outputs": [
    {
     "data": {
      "text/plain": [
       "((150, 2), (150,))"
      ]
     },
     "execution_count": 6,
     "metadata": {},
     "output_type": "execute_result"
    }
   ],
   "source": [
    "# X input data, t target data\n",
    "X, t = iris_mod.iloc[:,2:-1].to_numpy(), iris_mod.iloc[:,-1].to_numpy()\n",
    "X.shape, t.shape"
   ]
  },
  {
   "cell_type": "markdown",
   "id": "a25b82e7",
   "metadata": {},
   "source": [
    "# visualisation des données"
   ]
  },
  {
   "cell_type": "code",
   "execution_count": 7,
   "id": "0871c750",
   "metadata": {},
   "outputs": [
    {
     "data": {
      "image/png": "[encoded data removed]",
      "text/plain": [
       "<Figure size 444.75x360 with 6 Axes>"
      ]
     },
     "metadata": {
      "needs_background": "light"
     },
     "output_type": "display_data"
    }
   ],
   "source": [
    "iris_target = iris.frame.copy()\n",
    "iris_target['species'] = iris.target_names[iris.target]\n",
    "\n",
    "sns.pairplot(iris_target, hue='species', vars=[\"petal length (cm)\", \"petal width (cm)\"])\n",
    "\n",
    "plt.tight_layout()\n",
    "plt.show()"
   ]
  },
  {
   "cell_type": "markdown",
   "id": "14666496",
   "metadata": {},
   "source": [
    "# echantilloage des données"
   ]
  },
  {
   "cell_type": "markdown",
   "id": "b97bdb03",
   "metadata": {},
   "source": [
    "Split data into 3 (train, validation, test)"
   ]
  },
  {
   "cell_type": "markdown",
   "id": "1adb03c0",
   "metadata": {},
   "source": [
    "First, I split data into 2 (train_val, test, 80:20)"
   ]
  },
  {
   "cell_type": "code",
   "execution_count": 8,
   "id": "7bdf2ff0",
   "metadata": {},
   "outputs": [],
   "source": [
    "X_train_val, X_test, t_train_val, t_test = train_test_split(X, t, test_size=0.2, stratify=t, random_state=42)"
   ]
  },
  {
   "cell_type": "code",
   "execution_count": 9,
   "id": "56040971",
   "metadata": {},
   "outputs": [
    {
     "data": {
      "text/plain": [
       "((120, 2), (30, 2), (120,), (30,))"
      ]
     },
     "execution_count": 9,
     "metadata": {},
     "output_type": "execute_result"
    }
   ],
   "source": [
    "X_train_val.shape, X_test.shape, t_train_val.shape, t_test.shape"
   ]
  },
  {
   "cell_type": "markdown",
   "id": "66409072",
   "metadata": {},
   "source": [
    "Second, I split X_train_val, t_train_val into 2 (train, val, 80:20)"
   ]
  },
  {
   "cell_type": "code",
   "execution_count": 10,
   "id": "6a439f33",
   "metadata": {},
   "outputs": [],
   "source": [
    "X_train, X_val, t_train, t_val = train_test_split(X_train_val, t_train_val, test_size=0.25, stratify=t_train_val, random_state=10)"
   ]
  },
  {
   "cell_type": "code",
   "execution_count": 11,
   "id": "5a549e40",
   "metadata": {},
   "outputs": [
    {
     "data": {
      "text/plain": [
       "((90, 2), (30, 2), (90,), (30,))"
      ]
     },
     "execution_count": 11,
     "metadata": {},
     "output_type": "execute_result"
    }
   ],
   "source": [
    "X_train.shape, X_val.shape, t_train.shape, t_val.shape"
   ]
  },
  {
   "cell_type": "markdown",
   "id": "ed823668",
   "metadata": {},
   "source": [
    "# affichage de la distribution des données"
   ]
  },
  {
   "cell_type": "markdown",
   "id": "a23fb76b",
   "metadata": {},
   "source": [
    "J'ai vérifié le proportion de données avant et après l'echantillonage."
   ]
  },
  {
   "cell_type": "code",
   "execution_count": 12,
   "id": "a85704c7",
   "metadata": {},
   "outputs": [
    {
     "data": {
      "text/plain": [
       "0    50\n",
       "1    50\n",
       "2    50\n",
       "Name: target, dtype: int64"
      ]
     },
     "execution_count": 12,
     "metadata": {},
     "output_type": "execute_result"
    }
   ],
   "source": [
    "iris_mod.target.value_counts()"
   ]
  },
  {
   "cell_type": "code",
   "execution_count": 13,
   "id": "030d694f",
   "metadata": {},
   "outputs": [
    {
     "data": {
      "image/png": "[encoded data removed]",
      "text/plain": [
       "<Figure size 432x288 with 1 Axes>"
      ]
     },
     "metadata": {
      "needs_background": "light"
     },
     "output_type": "display_data"
    }
   ],
   "source": [
    "sns.countplot(x=t);"
   ]
  },
  {
   "cell_type": "code",
   "execution_count": 14,
   "id": "2017b4d5",
   "metadata": {},
   "outputs": [
    {
     "data": {
      "image/png": "[encoded data removed]",
      "text/plain": [
       "<Figure size 432x288 with 1 Axes>"
      ]
     },
     "metadata": {
      "needs_background": "light"
     },
     "output_type": "display_data"
    }
   ],
   "source": [
    "n, bins, patches = plt.hist([t, t_train, t_val, t_test], label=['actual', 'train', 'validation', 'test'], bins=np.arange(4)-0.5)\n",
    "plt.legend(loc='upper right')\n",
    "plt.xticks([0, 1, 2], ['setosa', 'versicolor', 'virginica'])\n",
    "#n, bins, patches = plt.hist([y, y_train, y_test], label=['initial', 'jeu de train', 'jeu de test'], bins=np.arange(3) - 0.5)\n",
    "\n",
    "total_0 = iris_mod.target.value_counts()[0]\n",
    "total_1 = iris_mod.target.value_counts()[1]\n",
    "total_2 = iris_mod.target.value_counts()[2]\n",
    "\n",
    "for patch in patches:\n",
    "    width_0, height_0 = patch[0].get_width(), patch[0].get_height()\n",
    "    x_text_0, y_text_0 = patch[0].get_xy()\n",
    "    width_1, height_1 = patch[1].get_width(), patch[1].get_height()\n",
    "    x_text_1, y_text_1 = patch[1].get_xy()\n",
    "    width_2, height_2 = patch[2].get_width(), patch[2].get_height()\n",
    "    x_text_2, y_text_2 = patch[2].get_xy()\n",
    "    \n",
    "    plt.annotate(\"{:.2%}\".format(height_0/total_0), xy = (x_text_0 + width_0/2 , y_text_0 + height_0 + 1))\n",
    "    plt.annotate(\"{:.2%}\".format(height_1/total_1), xy = (x_text_1 + width_1/2 , y_text_1 + height_1 + 1))\n",
    "    plt.annotate(\"{:.2%}\".format(height_2/total_2), xy = (x_text_2 + width_2/2 , y_text_2 + height_2 + 1))\n",
    "\n",
    "plt.show()"
   ]
  },
  {
   "cell_type": "markdown",
   "id": "9266649f",
   "metadata": {},
   "source": [
    "Remarques:\n",
    "    J'ai constaté que les données sont bien echantillonés."
   ]
  },
  {
   "cell_type": "markdown",
   "id": "b18b43fb",
   "metadata": {},
   "source": [
    "# automatisation l'apprentissage du modèle avec CV \"Traditionnelle\""
   ]
  },
  {
   "cell_type": "markdown",
   "id": "7d22be7f",
   "metadata": {},
   "source": [
    "automatisons maintenant l'apprentissage du modèle ! Pour cela, poursuivez votre Jupyter Notebook en implémentant une recherche par grille de la valeur optimale de l'hyperparamètre \"max_depth\".\n",
    "\n",
    "NB il est à ce stade ++formellement prohibé++ d'utiliser les routines de scikit-learn pour effectuer la recherche par grille !\n",
    "\n",
    "Evaluer et afficher ensuite les performances sur les jeux d'apprentissage, de validation et de test."
   ]
  },
  {
   "cell_type": "code",
   "execution_count": 15,
   "id": "435f1c51",
   "metadata": {},
   "outputs": [
    {
     "name": "stdout",
     "output_type": "stream",
     "text": [
      "max_depth = 1\n",
      "Train score: 0.6666666666666666\n",
      "Validation score: 0.6666666666666666\n",
      "Test score: 0.6666666666666666\n",
      "\n",
      "max_depth = 2\n",
      "Train score: 0.9666666666666667\n",
      "Validation score: 0.9666666666666667\n",
      "Test score: 0.9333333333333333\n",
      "\n",
      "max_depth = 3\n",
      "Train score: 0.9888888888888889\n",
      "Validation score: 0.9666666666666667\n",
      "Test score: 0.9666666666666667\n",
      "\n",
      "max_depth = 4\n",
      "Train score: 0.9888888888888889\n",
      "Validation score: 0.9666666666666667\n",
      "Test score: 0.9666666666666667\n",
      "\n",
      "max_depth = 5\n",
      "Train score: 1.0\n",
      "Validation score: 0.9666666666666667\n",
      "Test score: 0.9666666666666667\n",
      "\n",
      "max_depth = 6\n",
      "Train score: 1.0\n",
      "Validation score: 0.9666666666666667\n",
      "Test score: 0.9666666666666667\n",
      "\n",
      "max_depth = 7\n",
      "Train score: 1.0\n",
      "Validation score: 0.9666666666666667\n",
      "Test score: 0.9666666666666667\n",
      "\n",
      "max_depth = 8\n",
      "Train score: 1.0\n",
      "Validation score: 0.9666666666666667\n",
      "Test score: 0.9666666666666667\n",
      "\n",
      "max_depth = 9\n",
      "Train score: 1.0\n",
      "Validation score: 0.9666666666666667\n",
      "Test score: 0.9666666666666667\n",
      "\n",
      "max_depth = 10\n",
      "Train score: 1.0\n",
      "Validation score: 0.9666666666666667\n",
      "Test score: 0.9666666666666667\n",
      "\n",
      "Resulta\n",
      "Le meilleur validation max_depth = 2\n",
      "la meilleur validation score: 0.9666666666666667\n",
      "best model DecisionTreeClassifier(max_depth=2, random_state=42)\n"
     ]
    }
   ],
   "source": [
    "scores_train = {}\n",
    "scores_val = {}\n",
    "scores_test = {}\n",
    "best_score = 0\n",
    "best_max_depth = 1\n",
    "for d in range(1,11):\n",
    "    model = DecisionTreeClassifier(max_depth=d, random_state = 10)\n",
    "    model.fit(X_train, t_train)\n",
    "    \n",
    "   # scores_train[d] = accuracy_score(X_train, predict(X_train))  \n",
    "    scores_train[d] = model.score(X_train, t_train)   \n",
    "    scores_val[d] = model.score(X_val, t_val)\n",
    "    scores_test[d] = model.score(X_test, t_test)\n",
    "    if scores_val[d] > best_score:\n",
    "        best_score = scores_val[d]\n",
    "        best_max_depth = d\n",
    "        \"\"\"print(\"best max_depth =\", d)\n",
    "        print(\"best_score:\", best_score)\n",
    "        print(\"\")\"\"\"\n",
    "    print(\"max_depth =\", d)   \n",
    "    print(f'Train score: {scores_train[d]}')\n",
    "    print(f'Validation score: {scores_val[d]}')\n",
    "    print(f'Test score: {scores_test[d]}')\n",
    "    print(\"\")\n",
    "print(\"Resulta\")\n",
    "print(\"Le meilleur validation max_depth =\", best_max_depth)\n",
    "print(\"la meilleur validation score:\", best_score)\n",
    "best_model = DecisionTreeClassifier(max_depth=best_max_depth, random_state = 42)\n",
    "print(\"best model\", best_model)"
   ]
  },
  {
   "cell_type": "code",
   "execution_count": 16,
   "id": "5a0b74db",
   "metadata": {},
   "outputs": [
    {
     "data": {
      "text/plain": [
       "'scores_train = {}\\nscores_val = {}\\nscores_test = {}\\nd = 1\\nfor d in range(1,11):\\n    model = DecisionTreeClassifier(max_depth=d, random_state = 10)\\n    model.fit(X_train, t_train)\\n    scores_train[d] = model.score(X_train, t_train)\\n    scores_val[d] = model.score(X_val, t_val)\\n    scores_test[d] = model.score(X_test, t_test)\\n    print(\"max_depth =\", d)\\n    print(f\\'Train score: {scores_train[d]}\\')\\n    print(f\\'Validation score: {scores_val[d]}\\')\\n    print(f\\'Test score: {scores_test[d]}\\')\\n    print(\"\")\\n    '"
      ]
     },
     "execution_count": 16,
     "metadata": {},
     "output_type": "execute_result"
    }
   ],
   "source": [
    "\"\"\"scores_train = {}\n",
    "scores_val = {}\n",
    "scores_test = {}\n",
    "d = 1\n",
    "for d in range(1,11):\n",
    "    model = DecisionTreeClassifier(max_depth=d, random_state = 10)\n",
    "    model.fit(X_train, t_train)\n",
    "    scores_train[d] = model.score(X_train, t_train)\n",
    "    scores_val[d] = model.score(X_val, t_val)\n",
    "    scores_test[d] = model.score(X_test, t_test)\n",
    "    print(\"max_depth =\", d)\n",
    "    print(f'Train score: {scores_train[d]}')\n",
    "    print(f'Validation score: {scores_val[d]}')\n",
    "    print(f'Test score: {scores_test[d]}')\n",
    "    print(\"\")\n",
    "    \"\"\""
   ]
  },
  {
   "cell_type": "code",
   "execution_count": 17,
   "id": "e4f72ef4",
   "metadata": {},
   "outputs": [
    {
     "name": "stdout",
     "output_type": "stream",
     "text": [
      "dict_values([0.6666666666666666, 0.9333333333333333, 0.9666666666666667, 0.9666666666666667, 0.9666666666666667, 0.9666666666666667, 0.9666666666666667, 0.9666666666666667, 0.9666666666666667, 0.9666666666666667])\n"
     ]
    },
    {
     "data": {
      "image/png": "[encoded data removed]",
      "text/plain": [
       "<Figure size 700x400 with 1 Axes>"
      ]
     },
     "metadata": {
      "needs_background": "light"
     },
     "output_type": "display_data"
    }
   ],
   "source": [
    "plt.figure(figsize=(7, 4), dpi=100)\n",
    "p1=plt.plot(scores_train.values())\n",
    "p2=plt.plot(scores_val.values())\n",
    "p3=plt.plot(scores_test.values())\n",
    "plt.title(\"Performance par rapport à max_depth\")\n",
    "plt.xlabel(\"max_depth\")\n",
    "plt.ylabel(\"scores\")\n",
    "plt.grid(True)\n",
    "plt.xticks([0,1,2,3,4,5,6,7,8,9], list(scores_test.keys()))\n",
    "plt.legend((p1[0], p2[0], p3[0]),(\"scores train\", \"scores validation\", \"scores test\"))\n",
    "print(scores_test.values())\n",
    "plt.show()"
   ]
  },
  {
   "cell_type": "markdown",
   "id": "9f9c504f",
   "metadata": {},
   "source": [
    "## Matrix de confusion"
   ]
  },
  {
   "cell_type": "code",
   "execution_count": 18,
   "id": "b005531d",
   "metadata": {},
   "outputs": [],
   "source": [
    "#cm = confusion_matrix(y_true, y_pred)"
   ]
  },
  {
   "cell_type": "code",
   "execution_count": 19,
   "id": "b82ae000",
   "metadata": {},
   "outputs": [
    {
     "data": {
      "text/plain": [
       "DecisionTreeClassifier(max_depth=2, random_state=42)"
      ]
     },
     "execution_count": 19,
     "metadata": {},
     "output_type": "execute_result"
    }
   ],
   "source": [
    "best_model.fit(X_train, t_train)"
   ]
  },
  {
   "cell_type": "code",
   "execution_count": 20,
   "id": "6237a1dd",
   "metadata": {},
   "outputs": [],
   "source": [
    "y_train_pred = best_model.predict(X_train_val)"
   ]
  },
  {
   "cell_type": "code",
   "execution_count": 21,
   "id": "a784393d",
   "metadata": {},
   "outputs": [
    {
     "data": {
      "text/plain": [
       "array([[40,  0,  0],\n",
       "       [ 0, 39,  1],\n",
       "       [ 0,  3, 37]], dtype=int64)"
      ]
     },
     "execution_count": 21,
     "metadata": {},
     "output_type": "execute_result"
    }
   ],
   "source": [
    "cm = confusion_matrix(t_train_val, y_train_pred)\n",
    "cm"
   ]
  },
  {
   "cell_type": "code",
   "execution_count": 22,
   "id": "441097e9",
   "metadata": {},
   "outputs": [
    {
     "name": "stdout",
     "output_type": "stream",
     "text": [
      "[40  0  0  0 39  1  0  3 37]\n"
     ]
    }
   ],
   "source": [
    "print(cm.flatten())"
   ]
  },
  {
   "cell_type": "code",
   "execution_count": 23,
   "id": "97e49dbc",
   "metadata": {},
   "outputs": [
    {
     "data": {
      "text/plain": [
       "array([40,  0,  0], dtype=int64)"
      ]
     },
     "execution_count": 23,
     "metadata": {},
     "output_type": "execute_result"
    }
   ],
   "source": [
    "cm.flatten()[0:3]"
   ]
  },
  {
   "cell_type": "code",
   "execution_count": 24,
   "id": "7708ea6e",
   "metadata": {},
   "outputs": [
    {
     "data": {
      "image/png": "[encoded data removed]",
      "text/plain": [
       "<Figure size 432x288 with 2 Axes>"
      ]
     },
     "metadata": {
      "needs_background": "light"
     },
     "output_type": "display_data"
    }
   ],
   "source": [
    "ax= plt.subplot()\n",
    "\n",
    "group_names = ['True_setosa','False_versicolor','False_virginica','False_setosa','True_versicolor','False_virginica','False_setosa','False_versicolor','True_virginica']\n",
    "group_counts = [\"{0:0.0f}\".format(value) for value in cm.flatten()]\n",
    "\n",
    "group_percentages1 = [\"{0:.3%}\".format(value) for value in cm.flatten()[0:3]/np.sum(cm.flatten()[0:3])]\n",
    "group_percentages2 = [\"{0:.3%}\".format(value) for value in cm.flatten()[3:6]/np.sum(cm.flatten()[3:6])]\n",
    "group_percentages3 = [\"{0:.3%}\".format(value) for value in cm.flatten()[6:]/np.sum(cm.flatten()[6:])]\n",
    "group_percentages = np.append(group_percentages1, group_percentages2)\n",
    "group_percentages = np.append(group_percentages, group_percentages3).tolist()\n",
    "labels = [f\"{v1}\\n{v2}\\n{v3}\" for v1, v2, v3 in zip (group_names, group_counts, group_percentages)]\n",
    "labels = np.array(labels).reshape(3,3)\n",
    "\n",
    "sns.heatmap(cm, annot=labels, fmt='', cmap='Blues')\n",
    "\n",
    "ax.set_xlabel('Predicted')\n",
    "ax.set_ylabel('True') \n",
    "ax.set_title('Confusion Matrix TRAIN') \n",
    "\n",
    "plt.show()"
   ]
  },
  {
   "cell_type": "code",
   "execution_count": 1,
   "id": "60e3b427",
   "metadata": {},
   "outputs": [],
   "source": [
    "#print(cm.flatten())\n",
    "\n",
    "#tn, fp, fn, tp = cm.flatten()"
   ]
  },
  {
   "cell_type": "code",
   "execution_count": null,
   "id": "1956e5a1",
   "metadata": {},
   "outputs": [],
   "source": []
  },
  {
   "cell_type": "code",
   "execution_count": null,
   "id": "c02f9d6b",
   "metadata": {},
   "outputs": [],
   "source": []
  }
 ],
 "metadata": {
  "kernelspec": {
   "display_name": "Python 3 (ipykernel)",
   "language": "python",
   "name": "python3"
  },
  "language_info": {
   "codemirror_mode": {
    "name": "ipython",
    "version": 3
   },
   "file_extension": ".py",
   "mimetype": "text/x-python",
   "name": "python",
   "nbconvert_exporter": "python",
   "pygments_lexer": "ipython3",
   "version": "3.9.7"
  }
 },
 "nbformat": 4,
 "nbformat_minor": 5
}
