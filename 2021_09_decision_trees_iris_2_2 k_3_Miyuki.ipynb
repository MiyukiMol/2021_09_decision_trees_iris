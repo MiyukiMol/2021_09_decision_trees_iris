{
 "cells": [
  {
   "cell_type": "markdown",
   "id": "fe634e22",
   "metadata": {},
   "source": [
    "# Etude sur Decision Tree Classifier, Hyperparamètres et Botanique. Deuxième partie."
   ]
  },
  {
   "cell_type": "markdown",
   "id": "488c58cb",
   "metadata": {},
   "source": [
    "# 2 Cross validation k-fold CV"
   ]
  },
  {
   "cell_type": "markdown",
   "id": "f2b1dbb1",
   "metadata": {},
   "source": [
    "## Importation des librairies"
   ]
  },
  {
   "cell_type": "markdown",
   "id": "fe6108cf",
   "metadata": {},
   "source": [
    "Pour l'analyse des donnée, nous aurons besoin de la librairie \"pandas\" pour lire et manipuler les fichiers; la librairie \"numpy\" pour tous ceux qui est calcul mathématiques; et la librairie \"matplotlib.pyplot\" et \"seaborn\"pour la visualisation de données."
   ]
  },
  {
   "cell_type": "code",
   "execution_count": 42,
   "id": "8e1a01cd",
   "metadata": {},
   "outputs": [],
   "source": [
    "import pandas as pd\n",
    "import numpy as np\n",
    "import matplotlib.pyplot as plt \n",
    "import seaborn as sns \n",
    "from sklearn.datasets import load_iris\n",
    "from sklearn import datasets, linear_model, model_selection\n",
    "from sklearn.model_selection import train_test_split\n",
    "from sklearn import tree\n",
    "from sklearn.tree import DecisionTreeClassifier, export_graphviz\n",
    "from sklearn.model_selection import GridSearchCV\n",
    "from sklearn.model_selection import cross_validate\n",
    "from sklearn.metrics import confusion_matrix"
   ]
  },
  {
   "cell_type": "markdown",
   "id": "2205d3cb",
   "metadata": {},
   "source": [
    "## Chargement des données"
   ]
  },
  {
   "cell_type": "code",
   "execution_count": 2,
   "id": "8d13ac9f",
   "metadata": {},
   "outputs": [
    {
     "data": {
      "text/plain": [
       "0    50\n",
       "1    50\n",
       "2    50\n",
       "Name: target, dtype: int64"
      ]
     },
     "execution_count": 2,
     "metadata": {},
     "output_type": "execute_result"
    }
   ],
   "source": [
    "iris = datasets.load_iris(as_frame=True)\n",
    "iris[\"target\"].value_counts()"
   ]
  },
  {
   "cell_type": "code",
   "execution_count": 3,
   "id": "ba1b890c",
   "metadata": {},
   "outputs": [
    {
     "data": {
      "text/html": [
       "<div>\n",
       "<style scoped>\n",
       "    .dataframe tbody tr th:only-of-type {\n",
       "        vertical-align: middle;\n",
       "    }\n",
       "\n",
       "    .dataframe tbody tr th {\n",
       "        vertical-align: top;\n",
       "    }\n",
       "\n",
       "    .dataframe thead th {\n",
       "        text-align: right;\n",
       "    }\n",
       "</style>\n",
       "<table border=\"1\" class=\"dataframe\">\n",
       "  <thead>\n",
       "    <tr style=\"text-align: right;\">\n",
       "      <th></th>\n",
       "      <th>sepal length (cm)</th>\n",
       "      <th>sepal width (cm)</th>\n",
       "      <th>petal length (cm)</th>\n",
       "      <th>petal width (cm)</th>\n",
       "      <th>target</th>\n",
       "    </tr>\n",
       "  </thead>\n",
       "  <tbody>\n",
       "    <tr>\n",
       "      <th>0</th>\n",
       "      <td>5.1</td>\n",
       "      <td>3.5</td>\n",
       "      <td>1.4</td>\n",
       "      <td>0.2</td>\n",
       "      <td>0</td>\n",
       "    </tr>\n",
       "    <tr>\n",
       "      <th>1</th>\n",
       "      <td>4.9</td>\n",
       "      <td>3.0</td>\n",
       "      <td>1.4</td>\n",
       "      <td>0.2</td>\n",
       "      <td>0</td>\n",
       "    </tr>\n",
       "    <tr>\n",
       "      <th>2</th>\n",
       "      <td>4.7</td>\n",
       "      <td>3.2</td>\n",
       "      <td>1.3</td>\n",
       "      <td>0.2</td>\n",
       "      <td>0</td>\n",
       "    </tr>\n",
       "    <tr>\n",
       "      <th>3</th>\n",
       "      <td>4.6</td>\n",
       "      <td>3.1</td>\n",
       "      <td>1.5</td>\n",
       "      <td>0.2</td>\n",
       "      <td>0</td>\n",
       "    </tr>\n",
       "    <tr>\n",
       "      <th>4</th>\n",
       "      <td>5.0</td>\n",
       "      <td>3.6</td>\n",
       "      <td>1.4</td>\n",
       "      <td>0.2</td>\n",
       "      <td>0</td>\n",
       "    </tr>\n",
       "    <tr>\n",
       "      <th>...</th>\n",
       "      <td>...</td>\n",
       "      <td>...</td>\n",
       "      <td>...</td>\n",
       "      <td>...</td>\n",
       "      <td>...</td>\n",
       "    </tr>\n",
       "    <tr>\n",
       "      <th>145</th>\n",
       "      <td>6.7</td>\n",
       "      <td>3.0</td>\n",
       "      <td>5.2</td>\n",
       "      <td>2.3</td>\n",
       "      <td>2</td>\n",
       "    </tr>\n",
       "    <tr>\n",
       "      <th>146</th>\n",
       "      <td>6.3</td>\n",
       "      <td>2.5</td>\n",
       "      <td>5.0</td>\n",
       "      <td>1.9</td>\n",
       "      <td>2</td>\n",
       "    </tr>\n",
       "    <tr>\n",
       "      <th>147</th>\n",
       "      <td>6.5</td>\n",
       "      <td>3.0</td>\n",
       "      <td>5.2</td>\n",
       "      <td>2.0</td>\n",
       "      <td>2</td>\n",
       "    </tr>\n",
       "    <tr>\n",
       "      <th>148</th>\n",
       "      <td>6.2</td>\n",
       "      <td>3.4</td>\n",
       "      <td>5.4</td>\n",
       "      <td>2.3</td>\n",
       "      <td>2</td>\n",
       "    </tr>\n",
       "    <tr>\n",
       "      <th>149</th>\n",
       "      <td>5.9</td>\n",
       "      <td>3.0</td>\n",
       "      <td>5.1</td>\n",
       "      <td>1.8</td>\n",
       "      <td>2</td>\n",
       "    </tr>\n",
       "  </tbody>\n",
       "</table>\n",
       "<p>150 rows × 5 columns</p>\n",
       "</div>"
      ],
      "text/plain": [
       "     sepal length (cm)  sepal width (cm)  petal length (cm)  petal width (cm)  \\\n",
       "0                  5.1               3.5                1.4               0.2   \n",
       "1                  4.9               3.0                1.4               0.2   \n",
       "2                  4.7               3.2                1.3               0.2   \n",
       "3                  4.6               3.1                1.5               0.2   \n",
       "4                  5.0               3.6                1.4               0.2   \n",
       "..                 ...               ...                ...               ...   \n",
       "145                6.7               3.0                5.2               2.3   \n",
       "146                6.3               2.5                5.0               1.9   \n",
       "147                6.5               3.0                5.2               2.0   \n",
       "148                6.2               3.4                5.4               2.3   \n",
       "149                5.9               3.0                5.1               1.8   \n",
       "\n",
       "     target  \n",
       "0         0  \n",
       "1         0  \n",
       "2         0  \n",
       "3         0  \n",
       "4         0  \n",
       "..      ...  \n",
       "145       2  \n",
       "146       2  \n",
       "147       2  \n",
       "148       2  \n",
       "149       2  \n",
       "\n",
       "[150 rows x 5 columns]"
      ]
     },
     "execution_count": 3,
     "metadata": {},
     "output_type": "execute_result"
    }
   ],
   "source": [
    "iris_mod = iris.frame.copy()\n",
    "iris_mod"
   ]
  },
  {
   "cell_type": "code",
   "execution_count": 4,
   "id": "4bf38491",
   "metadata": {},
   "outputs": [],
   "source": [
    "data = iris_mod.iloc[:,2:-1]"
   ]
  },
  {
   "cell_type": "code",
   "execution_count": 5,
   "id": "42e04925",
   "metadata": {},
   "outputs": [
    {
     "data": {
      "text/html": [
       "<div>\n",
       "<style scoped>\n",
       "    .dataframe tbody tr th:only-of-type {\n",
       "        vertical-align: middle;\n",
       "    }\n",
       "\n",
       "    .dataframe tbody tr th {\n",
       "        vertical-align: top;\n",
       "    }\n",
       "\n",
       "    .dataframe thead th {\n",
       "        text-align: right;\n",
       "    }\n",
       "</style>\n",
       "<table border=\"1\" class=\"dataframe\">\n",
       "  <thead>\n",
       "    <tr style=\"text-align: right;\">\n",
       "      <th></th>\n",
       "      <th>petal length (cm)</th>\n",
       "      <th>petal width (cm)</th>\n",
       "    </tr>\n",
       "  </thead>\n",
       "  <tbody>\n",
       "    <tr>\n",
       "      <th>0</th>\n",
       "      <td>1.4</td>\n",
       "      <td>0.2</td>\n",
       "    </tr>\n",
       "    <tr>\n",
       "      <th>1</th>\n",
       "      <td>1.4</td>\n",
       "      <td>0.2</td>\n",
       "    </tr>\n",
       "    <tr>\n",
       "      <th>2</th>\n",
       "      <td>1.3</td>\n",
       "      <td>0.2</td>\n",
       "    </tr>\n",
       "    <tr>\n",
       "      <th>3</th>\n",
       "      <td>1.5</td>\n",
       "      <td>0.2</td>\n",
       "    </tr>\n",
       "    <tr>\n",
       "      <th>4</th>\n",
       "      <td>1.4</td>\n",
       "      <td>0.2</td>\n",
       "    </tr>\n",
       "    <tr>\n",
       "      <th>...</th>\n",
       "      <td>...</td>\n",
       "      <td>...</td>\n",
       "    </tr>\n",
       "    <tr>\n",
       "      <th>145</th>\n",
       "      <td>5.2</td>\n",
       "      <td>2.3</td>\n",
       "    </tr>\n",
       "    <tr>\n",
       "      <th>146</th>\n",
       "      <td>5.0</td>\n",
       "      <td>1.9</td>\n",
       "    </tr>\n",
       "    <tr>\n",
       "      <th>147</th>\n",
       "      <td>5.2</td>\n",
       "      <td>2.0</td>\n",
       "    </tr>\n",
       "    <tr>\n",
       "      <th>148</th>\n",
       "      <td>5.4</td>\n",
       "      <td>2.3</td>\n",
       "    </tr>\n",
       "    <tr>\n",
       "      <th>149</th>\n",
       "      <td>5.1</td>\n",
       "      <td>1.8</td>\n",
       "    </tr>\n",
       "  </tbody>\n",
       "</table>\n",
       "<p>150 rows × 2 columns</p>\n",
       "</div>"
      ],
      "text/plain": [
       "     petal length (cm)  petal width (cm)\n",
       "0                  1.4               0.2\n",
       "1                  1.4               0.2\n",
       "2                  1.3               0.2\n",
       "3                  1.5               0.2\n",
       "4                  1.4               0.2\n",
       "..                 ...               ...\n",
       "145                5.2               2.3\n",
       "146                5.0               1.9\n",
       "147                5.2               2.0\n",
       "148                5.4               2.3\n",
       "149                5.1               1.8\n",
       "\n",
       "[150 rows x 2 columns]"
      ]
     },
     "execution_count": 5,
     "metadata": {},
     "output_type": "execute_result"
    }
   ],
   "source": [
    "data"
   ]
  },
  {
   "cell_type": "code",
   "execution_count": 6,
   "id": "cdce36c5",
   "metadata": {},
   "outputs": [
    {
     "data": {
      "text/plain": [
       "((150, 2), (150,))"
      ]
     },
     "execution_count": 6,
     "metadata": {},
     "output_type": "execute_result"
    }
   ],
   "source": [
    "# X input data, t target data\n",
    "X, t = iris_mod.iloc[:,2:-1].to_numpy(), iris_mod.iloc[:,-1].to_numpy()\n",
    "X.shape, t.shape"
   ]
  },
  {
   "cell_type": "markdown",
   "id": "f6a2d0e5",
   "metadata": {},
   "source": [
    "# echantilloage des données"
   ]
  },
  {
   "cell_type": "markdown",
   "id": "1c167f19",
   "metadata": {},
   "source": [
    "Split data into 3 (train, validation, test)"
   ]
  },
  {
   "cell_type": "markdown",
   "id": "a3673c92",
   "metadata": {},
   "source": [
    "First, I split data into 2 (train_val, test, 80:20) : test samples = 30"
   ]
  },
  {
   "cell_type": "code",
   "execution_count": 7,
   "id": "8c52ebbf",
   "metadata": {},
   "outputs": [],
   "source": [
    "X_train_val, X_test, t_train_val, t_test = train_test_split(X, t, test_size=0.2, stratify=t, random_state=42)"
   ]
  },
  {
   "cell_type": "code",
   "execution_count": 8,
   "id": "b7c77dd6",
   "metadata": {},
   "outputs": [
    {
     "data": {
      "text/plain": [
       "((120, 2), (30, 2), (120,), (30,))"
      ]
     },
     "execution_count": 8,
     "metadata": {},
     "output_type": "execute_result"
    }
   ],
   "source": [
    "X_train_val.shape, X_test.shape, t_train_val.shape, t_test.shape"
   ]
  },
  {
   "cell_type": "code",
   "execution_count": 9,
   "id": "8c26a707",
   "metadata": {},
   "outputs": [
    {
     "data": {
      "text/plain": [
       "'t_train_val=np.reshape(t_train_val.shape[0],1)\\nt_train_val.shape'"
      ]
     },
     "execution_count": 9,
     "metadata": {},
     "output_type": "execute_result"
    }
   ],
   "source": [
    "\"\"\"t_train_val=np.reshape(t_train_val.shape[0],1)\n",
    "t_train_val.shape\"\"\""
   ]
  },
  {
   "cell_type": "markdown",
   "id": "e51ddced",
   "metadata": {},
   "source": [
    "Second, I split X_train_val, t_train_val into 2 (train, val, 80:40) with k=3\n",
    "\n",
    "To round all the data, I create 3 groupes for grid search manually\n",
    "\n",
    "X_train_1, X_val_1, t_train_1, t_val_1\n",
    "\n",
    "X_train_2, X_val_2, t_train_2, t_val_2\n",
    "\n",
    "X_train_3, X_val_3, t_train_3, t_val_3"
   ]
  },
  {
   "cell_type": "code",
   "execution_count": 10,
   "id": "6c80bfe3",
   "metadata": {},
   "outputs": [],
   "source": [
    "X_train_1, X_val_1, t_train_1, t_val_1 = train_test_split(X_train_val, t_train_val, test_size=40, stratify=t_train_val, random_state=42)"
   ]
  },
  {
   "cell_type": "code",
   "execution_count": 11,
   "id": "02c25b37",
   "metadata": {},
   "outputs": [
    {
     "data": {
      "text/plain": [
       "(80, 2)"
      ]
     },
     "execution_count": 11,
     "metadata": {},
     "output_type": "execute_result"
    }
   ],
   "source": [
    "X_train_1.shape"
   ]
  },
  {
   "cell_type": "code",
   "execution_count": 12,
   "id": "3313d41d",
   "metadata": {},
   "outputs": [],
   "source": [
    "X_train_2a, X_val_2, t_train_2a, t_val_2 = train_test_split(X_train_1, t_train_1, test_size=40, stratify=t_train_1, random_state=42)"
   ]
  },
  {
   "cell_type": "code",
   "execution_count": 13,
   "id": "8c3e69b2",
   "metadata": {},
   "outputs": [],
   "source": [
    "# create X_train_2 and t_train_2.\n",
    "# X_train_2 = X_train_2a + X_val_1\n",
    "# t_train_2 = t_train_2a + t_val_1\n",
    "\n",
    "aX_2 = np.array(X_train_2a)\n",
    "bX_2 = np.array(X_val_1)\n",
    "X_train_2 = np.concatenate([aX_2,bX_2])\n",
    "\n",
    "at_2 = np.array(t_train_2a)\n",
    "bt_2 = np.array(t_val_1)\n",
    "t_train_2 = np.concatenate([at_2,bt_2])"
   ]
  },
  {
   "cell_type": "code",
   "execution_count": 14,
   "id": "97197089",
   "metadata": {},
   "outputs": [],
   "source": [
    "# pd.DataFrame(X_train_3)"
   ]
  },
  {
   "cell_type": "code",
   "execution_count": 15,
   "id": "78ccfecf",
   "metadata": {},
   "outputs": [],
   "source": [
    "# X_val_3 = X_train_2a\n",
    "# X_train_3 = X_val_1 + X_val_2\n",
    "\n",
    "X_val_3 = X_train_2a\n",
    "t_val_3 = t_train_2a\n",
    "\n",
    "aX_3 = np.array(X_val_2)\n",
    "at_3 = np.array(t_val_2)\n",
    "\n",
    "X_train_3 = np.concatenate([aX_3,bX_2])\n",
    "t_train_3 = np.concatenate([at_3,bt_2])"
   ]
  },
  {
   "cell_type": "code",
   "execution_count": 16,
   "id": "c10fbbad",
   "metadata": {},
   "outputs": [
    {
     "data": {
      "text/plain": [
       "(80, 2)"
      ]
     },
     "execution_count": 16,
     "metadata": {},
     "output_type": "execute_result"
    }
   ],
   "source": [
    "X_train_3.shape"
   ]
  },
  {
   "cell_type": "markdown",
   "id": "4ba3dcf5",
   "metadata": {},
   "source": [
    "# affichage de la distribution des données"
   ]
  },
  {
   "cell_type": "markdown",
   "id": "0c5d459f",
   "metadata": {},
   "source": [
    "J'ai vérifié le proportion de données avant et après l'echantillonage."
   ]
  },
  {
   "cell_type": "code",
   "execution_count": 17,
   "id": "b85e560a",
   "metadata": {},
   "outputs": [
    {
     "data": {
      "text/plain": [
       "0    50\n",
       "1    50\n",
       "2    50\n",
       "Name: target, dtype: int64"
      ]
     },
     "execution_count": 17,
     "metadata": {},
     "output_type": "execute_result"
    }
   ],
   "source": [
    "iris_mod.target.value_counts()"
   ]
  },
  {
   "cell_type": "code",
   "execution_count": 18,
   "id": "7a905363",
   "metadata": {},
   "outputs": [
    {
     "data": {
      "image/png": "[encoded data removed]",
      "text/plain": [
       "<Figure size 432x288 with 1 Axes>"
      ]
     },
     "metadata": {
      "needs_background": "light"
     },
     "output_type": "display_data"
    }
   ],
   "source": [
    "sns.countplot(x=t);"
   ]
  },
  {
   "cell_type": "code",
   "execution_count": 19,
   "id": "ad356860",
   "metadata": {},
   "outputs": [
    {
     "data": {
      "image/png": "[encoded data removed]",
      "text/plain": [
       "<Figure size 432x288 with 1 Axes>"
      ]
     },
     "metadata": {
      "needs_background": "light"
     },
     "output_type": "display_data"
    }
   ],
   "source": [
    "n, bins, patches = plt.hist([t, t_train_1, t_val_1, t_test], label=['actual', 'train', 'validation', 'test'], bins=np.arange(4)-0.5)\n",
    "plt.legend(loc='upper right')\n",
    "plt.xticks([0, 1, 2], ['setosa', 'versicolor', 'virginica'])\n",
    "#n, bins, patches = plt.hist([y, y_train, y_test], label=['initial', 'jeu de train', 'jeu de test'], bins=np.arange(3) - 0.5)\n",
    "\n",
    "total_0 = iris_mod.target.value_counts()[0]\n",
    "total_1 = iris_mod.target.value_counts()[1]\n",
    "total_2 = iris_mod.target.value_counts()[2]\n",
    "\n",
    "for patch in patches:\n",
    "    width_0, height_0 = patch[0].get_width(), patch[0].get_height()\n",
    "    x_text_0, y_text_0 = patch[0].get_xy()\n",
    "    width_1, height_1 = patch[1].get_width(), patch[1].get_height()\n",
    "    x_text_1, y_text_1 = patch[1].get_xy()\n",
    "    width_2, height_2 = patch[2].get_width(), patch[2].get_height()\n",
    "    x_text_2, y_text_2 = patch[2].get_xy()\n",
    "    \n",
    "    plt.annotate(\"{:.2%}\".format(height_0/total_0), xy = (x_text_0 + width_0/2 , y_text_0 + height_0 + 1))\n",
    "    plt.annotate(\"{:.2%}\".format(height_1/total_1), xy = (x_text_1 + width_1/2 , y_text_1 + height_1 + 1))\n",
    "    plt.annotate(\"{:.2%}\".format(height_2/total_2), xy = (x_text_2 + width_2/2 , y_text_2 + height_2 + 1))\n",
    "\n",
    "plt.show()"
   ]
  },
  {
   "cell_type": "markdown",
   "id": "ed20f4af",
   "metadata": {},
   "source": [
    "Remarques:\n",
    "    J'ai constaté que les données sont bien echantillonés."
   ]
  },
  {
   "cell_type": "markdown",
   "id": "22db90c7",
   "metadata": {},
   "source": [
    "# automatisation l'apprentissage du modèle avec grid search et 3-fold CV sans scikit-learn routine"
   ]
  },
  {
   "cell_type": "markdown",
   "id": "6a5d78ad",
   "metadata": {},
   "source": [
    "Implémentez ensuite un deuxième Jupyter Notebook, selon le même plan que précédemment, mais en effectuant cette fois-ci une \"k-fold cross-validation\" avec k égal à 3.\n",
    "\n",
    "NB il est toujours ++formellement prohibé++ d'utiliser les routines de scikit-learn, à la fois pour la recherche par grille comme pour la mise en place de la \"3-fold cross-validation\".\n",
    "\n",
    "Evaluer et afficher ensuite les performances sur les différents jeux de données."
   ]
  },
  {
   "cell_type": "markdown",
   "id": "84f03315",
   "metadata": {},
   "source": [
    "X_train_1, X_val_1, t_train_1, t_val_1\n",
    "\n",
    "X_train_2, X_val_2, t_train_2, t_val_2\n",
    "\n",
    "X_train_3, X_val_3, t_train_3, t_val_3"
   ]
  },
  {
   "cell_type": "code",
   "execution_count": 20,
   "id": "af6dcb70",
   "metadata": {},
   "outputs": [],
   "source": [
    "# J'ai entrainé le modèle avec max_depth=2\n",
    "\n",
    "model = tree.DecisionTreeClassifier(random_state=42, max_depth=2)"
   ]
  },
  {
   "cell_type": "code",
   "execution_count": 21,
   "id": "eb5ee6f3",
   "metadata": {},
   "outputs": [],
   "source": [
    "#pd.DataFrame(X_train)"
   ]
  },
  {
   "cell_type": "code",
   "execution_count": 22,
   "id": "1c2ebbb6",
   "metadata": {},
   "outputs": [],
   "source": [
    "#pd.DataFrame(X_val)"
   ]
  },
  {
   "cell_type": "code",
   "execution_count": 23,
   "id": "437d6820",
   "metadata": {},
   "outputs": [
    {
     "name": "stdout",
     "output_type": "stream",
     "text": [
      "Train score: 0.9875\n",
      "validation score: 0.925\n",
      "Test score: 0.9333333333333333\n"
     ]
    }
   ],
   "source": [
    "model.fit(X_train_1, t_train_1)\n",
    "score_train = model.score(X_train_1, t_train_1)\n",
    "score_val = model.score(X_val_1, t_val_1)\n",
    "score_test = model.score(X_test, t_test)\n",
    "print(f'Train score: {score_train}')\n",
    "print(f'validation score: {score_val}')\n",
    "print(f'Test score: {score_test}')"
   ]
  },
  {
   "cell_type": "code",
   "execution_count": 24,
   "id": "61aa343e",
   "metadata": {},
   "outputs": [
    {
     "data": {
      "text/plain": [
       "(40, 2)"
      ]
     },
     "execution_count": 24,
     "metadata": {},
     "output_type": "execute_result"
    }
   ],
   "source": [
    "X_val_1.shape"
   ]
  },
  {
   "cell_type": "code",
   "execution_count": null,
   "id": "97a1cdcb",
   "metadata": {},
   "outputs": [],
   "source": []
  },
  {
   "cell_type": "code",
   "execution_count": 25,
   "id": "d956bf01",
   "metadata": {},
   "outputs": [
    {
     "name": "stdout",
     "output_type": "stream",
     "text": [
      "Train score: 0.9625\n",
      "validation score: 0.95\n",
      "Test score: 0.9333333333333333\n"
     ]
    }
   ],
   "source": [
    "model.fit(X_train_2, t_train_2)\n",
    "score_train_2 = model.score(X_train_2, t_train_2)\n",
    "score_val_2 = model.score(X_val_2, t_val_2)\n",
    "score_test = model.score(X_test, t_test)\n",
    "print(f'Train score: {score_train_2}')\n",
    "print(f'validation score: {score_val_2}')\n",
    "print(f'Test score: {score_test}')"
   ]
  },
  {
   "cell_type": "code",
   "execution_count": 26,
   "id": "bb558b74",
   "metadata": {},
   "outputs": [
    {
     "name": "stdout",
     "output_type": "stream",
     "text": [
      "Train score: 0.9625\n",
      "validation score: 0.975\n",
      "Test score: 0.9333333333333333\n"
     ]
    }
   ],
   "source": [
    "model.fit(X_train_3, t_train_3)\n",
    "score_train_3 = model.score(X_train_3, t_train_3)\n",
    "score_val_3 = model.score(X_val_3, t_val_3)\n",
    "score_test = model.score(X_test, t_test)\n",
    "print(f'Train score: {score_train_3}')\n",
    "print(f'validation score: {score_val_3}')\n",
    "print(f'Test score: {score_test}')"
   ]
  },
  {
   "cell_type": "markdown",
   "id": "102f2824",
   "metadata": {},
   "source": [
    "### 3-fold cross validation manually"
   ]
  },
  {
   "cell_type": "code",
   "execution_count": 27,
   "id": "e7ba3154",
   "metadata": {},
   "outputs": [
    {
     "name": "stdout",
     "output_type": "stream",
     "text": [
      "max_depth = 2\n",
      "Train score 1: {2: 0.9875}\n",
      "validation score 1: {2: 0.925}\n",
      "Test score 1: {2: 0.9333333333333333}\n",
      "\n",
      "Train score 2: {2: 0.9625}\n",
      "validation score 2: {2: 0.95}\n",
      "Test score 2: {2: 0.9333333333333333}\n",
      "\n",
      "Train score 3: {2: 0.9625}\n",
      "validation score 3: {2: 0.975}\n",
      "Test score 3: {2: 0.9333333333333333}\n",
      "\n",
      "avarage Train score: {2: 0.9791666666666666}\n",
      "avarage Validation score: {2: 0.9333333333333332}\n",
      "avarage Test score: {2: 0.9333333333333332}\n",
      "\n",
      "max_depth = 3\n",
      "Train score 1: {2: 0.9875, 3: 1.0}\n",
      "validation score 1: {2: 0.925, 3: 0.925}\n",
      "Test score 1: {2: 0.9333333333333333, 3: 0.9666666666666667}\n",
      "\n",
      "Train score 2: {2: 0.9625, 3: 0.9625}\n",
      "validation score 2: {2: 0.95, 3: 0.95}\n",
      "Test score 2: {2: 0.9333333333333333, 3: 0.9333333333333333}\n",
      "\n",
      "Train score 3: {2: 0.9625, 3: 0.975}\n",
      "validation score 3: {2: 0.975, 3: 0.975}\n",
      "Test score 3: {2: 0.9333333333333333, 3: 0.9333333333333333}\n",
      "\n",
      "avarage Train score: {2: 0.9791666666666666, 3: 0.9874999999999999}\n",
      "avarage Validation score: {2: 0.9333333333333332, 3: 0.9333333333333332}\n",
      "avarage Test score: {2: 0.9333333333333332, 3: 0.9555555555555556}\n",
      "\n",
      "max_depth = 4\n",
      "Train score 1: {2: 0.9875, 3: 1.0, 4: 1.0}\n",
      "validation score 1: {2: 0.925, 3: 0.925, 4: 0.925}\n",
      "Test score 1: {2: 0.9333333333333333, 3: 0.9666666666666667, 4: 0.9666666666666667}\n",
      "\n",
      "Train score 2: {2: 0.9625, 3: 0.9625, 4: 0.9875}\n",
      "validation score 2: {2: 0.95, 3: 0.95, 4: 0.975}\n",
      "Test score 2: {2: 0.9333333333333333, 3: 0.9333333333333333, 4: 0.9333333333333333}\n",
      "\n",
      "Train score 3: {2: 0.9625, 3: 0.975, 4: 0.975}\n",
      "validation score 3: {2: 0.975, 3: 0.975, 4: 0.95}\n",
      "Test score 3: {2: 0.9333333333333333, 3: 0.9333333333333333, 4: 0.9}\n",
      "\n",
      "avarage Train score: {2: 0.9791666666666666, 3: 0.9874999999999999, 4: 0.9958333333333332}\n",
      "avarage Validation score: {2: 0.9333333333333332, 3: 0.9333333333333332, 4: 0.9416666666666668}\n",
      "avarage Test score: {2: 0.9333333333333332, 3: 0.9555555555555556, 4: 0.9555555555555556}\n",
      "\n",
      "max_depth = 5\n",
      "Train score 1: {2: 0.9875, 3: 1.0, 4: 1.0, 5: 1.0}\n",
      "validation score 1: {2: 0.925, 3: 0.925, 4: 0.925, 5: 0.925}\n",
      "Test score 1: {2: 0.9333333333333333, 3: 0.9666666666666667, 4: 0.9666666666666667, 5: 0.9666666666666667}\n",
      "\n",
      "Train score 2: {2: 0.9625, 3: 0.9625, 4: 0.9875, 5: 0.9875}\n",
      "validation score 2: {2: 0.95, 3: 0.95, 4: 0.975, 5: 0.975}\n",
      "Test score 2: {2: 0.9333333333333333, 3: 0.9333333333333333, 4: 0.9333333333333333, 5: 0.9333333333333333}\n",
      "\n",
      "Train score 3: {2: 0.9625, 3: 0.975, 4: 0.975, 5: 0.9875}\n",
      "validation score 3: {2: 0.975, 3: 0.975, 4: 0.95, 5: 0.95}\n",
      "Test score 3: {2: 0.9333333333333333, 3: 0.9333333333333333, 4: 0.9, 5: 0.9333333333333333}\n",
      "\n",
      "avarage Train score: {2: 0.9791666666666666, 3: 0.9874999999999999, 4: 0.9958333333333332, 5: 0.9958333333333332}\n",
      "avarage Validation score: {2: 0.9333333333333332, 3: 0.9333333333333332, 4: 0.9416666666666668, 5: 0.9416666666666668}\n",
      "avarage Test score: {2: 0.9333333333333332, 3: 0.9555555555555556, 4: 0.9555555555555556, 5: 0.9555555555555556}\n",
      "\n",
      "max_depth = 6\n",
      "Train score 1: {2: 0.9875, 3: 1.0, 4: 1.0, 5: 1.0, 6: 1.0}\n",
      "validation score 1: {2: 0.925, 3: 0.925, 4: 0.925, 5: 0.925, 6: 0.925}\n",
      "Test score 1: {2: 0.9333333333333333, 3: 0.9666666666666667, 4: 0.9666666666666667, 5: 0.9666666666666667, 6: 0.9666666666666667}\n",
      "\n",
      "Train score 2: {2: 0.9625, 3: 0.9625, 4: 0.9875, 5: 0.9875, 6: 1.0}\n",
      "validation score 2: {2: 0.95, 3: 0.95, 4: 0.975, 5: 0.975, 6: 0.975}\n",
      "Test score 2: {2: 0.9333333333333333, 3: 0.9333333333333333, 4: 0.9333333333333333, 5: 0.9333333333333333, 6: 0.9333333333333333}\n",
      "\n",
      "Train score 3: {2: 0.9625, 3: 0.975, 4: 0.975, 5: 0.9875, 6: 0.9875}\n",
      "validation score 3: {2: 0.975, 3: 0.975, 4: 0.95, 5: 0.95, 6: 0.95}\n",
      "Test score 3: {2: 0.9333333333333333, 3: 0.9333333333333333, 4: 0.9, 5: 0.9333333333333333, 6: 0.9333333333333333}\n",
      "\n",
      "avarage Train score: {2: 0.9791666666666666, 3: 0.9874999999999999, 4: 0.9958333333333332, 5: 0.9958333333333332, 6: 1.0}\n",
      "avarage Validation score: {2: 0.9333333333333332, 3: 0.9333333333333332, 4: 0.9416666666666668, 5: 0.9416666666666668, 6: 0.9416666666666668}\n",
      "avarage Test score: {2: 0.9333333333333332, 3: 0.9555555555555556, 4: 0.9555555555555556, 5: 0.9555555555555556, 6: 0.9555555555555556}\n",
      "\n",
      "max_depth = 7\n",
      "Train score 1: {2: 0.9875, 3: 1.0, 4: 1.0, 5: 1.0, 6: 1.0, 7: 1.0}\n",
      "validation score 1: {2: 0.925, 3: 0.925, 4: 0.925, 5: 0.925, 6: 0.925, 7: 0.925}\n",
      "Test score 1: {2: 0.9333333333333333, 3: 0.9666666666666667, 4: 0.9666666666666667, 5: 0.9666666666666667, 6: 0.9666666666666667, 7: 0.9666666666666667}\n",
      "\n",
      "Train score 2: {2: 0.9625, 3: 0.9625, 4: 0.9875, 5: 0.9875, 6: 1.0, 7: 1.0}\n",
      "validation score 2: {2: 0.95, 3: 0.95, 4: 0.975, 5: 0.975, 6: 0.975, 7: 0.975}\n",
      "Test score 2: {2: 0.9333333333333333, 3: 0.9333333333333333, 4: 0.9333333333333333, 5: 0.9333333333333333, 6: 0.9333333333333333, 7: 0.9333333333333333}\n",
      "\n",
      "Train score 3: {2: 0.9625, 3: 0.975, 4: 0.975, 5: 0.9875, 6: 0.9875, 7: 0.9875}\n",
      "validation score 3: {2: 0.975, 3: 0.975, 4: 0.95, 5: 0.95, 6: 0.95, 7: 0.95}\n",
      "Test score 3: {2: 0.9333333333333333, 3: 0.9333333333333333, 4: 0.9, 5: 0.9333333333333333, 6: 0.9333333333333333, 7: 0.9333333333333333}\n",
      "\n",
      "avarage Train score: {2: 0.9791666666666666, 3: 0.9874999999999999, 4: 0.9958333333333332, 5: 0.9958333333333332, 6: 1.0, 7: 1.0}\n",
      "avarage Validation score: {2: 0.9333333333333332, 3: 0.9333333333333332, 4: 0.9416666666666668, 5: 0.9416666666666668, 6: 0.9416666666666668, 7: 0.9416666666666668}\n",
      "avarage Test score: {2: 0.9333333333333332, 3: 0.9555555555555556, 4: 0.9555555555555556, 5: 0.9555555555555556, 6: 0.9555555555555556, 7: 0.9555555555555556}\n",
      "\n",
      "max_depth = 8\n",
      "Train score 1: {2: 0.9875, 3: 1.0, 4: 1.0, 5: 1.0, 6: 1.0, 7: 1.0, 8: 1.0}\n",
      "validation score 1: {2: 0.925, 3: 0.925, 4: 0.925, 5: 0.925, 6: 0.925, 7: 0.925, 8: 0.925}\n",
      "Test score 1: {2: 0.9333333333333333, 3: 0.9666666666666667, 4: 0.9666666666666667, 5: 0.9666666666666667, 6: 0.9666666666666667, 7: 0.9666666666666667, 8: 0.9666666666666667}\n",
      "\n",
      "Train score 2: {2: 0.9625, 3: 0.9625, 4: 0.9875, 5: 0.9875, 6: 1.0, 7: 1.0, 8: 1.0}\n",
      "validation score 2: {2: 0.95, 3: 0.95, 4: 0.975, 5: 0.975, 6: 0.975, 7: 0.975, 8: 0.975}\n",
      "Test score 2: {2: 0.9333333333333333, 3: 0.9333333333333333, 4: 0.9333333333333333, 5: 0.9333333333333333, 6: 0.9333333333333333, 7: 0.9333333333333333, 8: 0.9333333333333333}\n",
      "\n",
      "Train score 3: {2: 0.9625, 3: 0.975, 4: 0.975, 5: 0.9875, 6: 0.9875, 7: 0.9875, 8: 0.9875}\n",
      "validation score 3: {2: 0.975, 3: 0.975, 4: 0.95, 5: 0.95, 6: 0.95, 7: 0.95, 8: 0.95}\n",
      "Test score 3: {2: 0.9333333333333333, 3: 0.9333333333333333, 4: 0.9, 5: 0.9333333333333333, 6: 0.9333333333333333, 7: 0.9333333333333333, 8: 0.9333333333333333}\n",
      "\n",
      "avarage Train score: {2: 0.9791666666666666, 3: 0.9874999999999999, 4: 0.9958333333333332, 5: 0.9958333333333332, 6: 1.0, 7: 1.0, 8: 1.0}\n",
      "avarage Validation score: {2: 0.9333333333333332, 3: 0.9333333333333332, 4: 0.9416666666666668, 5: 0.9416666666666668, 6: 0.9416666666666668, 7: 0.9416666666666668, 8: 0.9416666666666668}\n",
      "avarage Test score: {2: 0.9333333333333332, 3: 0.9555555555555556, 4: 0.9555555555555556, 5: 0.9555555555555556, 6: 0.9555555555555556, 7: 0.9555555555555556, 8: 0.9555555555555556}\n",
      "\n",
      "max_depth = 9\n",
      "Train score 1: {2: 0.9875, 3: 1.0, 4: 1.0, 5: 1.0, 6: 1.0, 7: 1.0, 8: 1.0, 9: 1.0}\n",
      "validation score 1: {2: 0.925, 3: 0.925, 4: 0.925, 5: 0.925, 6: 0.925, 7: 0.925, 8: 0.925, 9: 0.925}\n",
      "Test score 1: {2: 0.9333333333333333, 3: 0.9666666666666667, 4: 0.9666666666666667, 5: 0.9666666666666667, 6: 0.9666666666666667, 7: 0.9666666666666667, 8: 0.9666666666666667, 9: 0.9666666666666667}\n",
      "\n",
      "Train score 2: {2: 0.9625, 3: 0.9625, 4: 0.9875, 5: 0.9875, 6: 1.0, 7: 1.0, 8: 1.0, 9: 1.0}\n",
      "validation score 2: {2: 0.95, 3: 0.95, 4: 0.975, 5: 0.975, 6: 0.975, 7: 0.975, 8: 0.975, 9: 0.975}\n",
      "Test score 2: {2: 0.9333333333333333, 3: 0.9333333333333333, 4: 0.9333333333333333, 5: 0.9333333333333333, 6: 0.9333333333333333, 7: 0.9333333333333333, 8: 0.9333333333333333, 9: 0.9333333333333333}\n",
      "\n",
      "Train score 3: {2: 0.9625, 3: 0.975, 4: 0.975, 5: 0.9875, 6: 0.9875, 7: 0.9875, 8: 0.9875, 9: 0.9875}\n",
      "validation score 3: {2: 0.975, 3: 0.975, 4: 0.95, 5: 0.95, 6: 0.95, 7: 0.95, 8: 0.95, 9: 0.95}\n",
      "Test score 3: {2: 0.9333333333333333, 3: 0.9333333333333333, 4: 0.9, 5: 0.9333333333333333, 6: 0.9333333333333333, 7: 0.9333333333333333, 8: 0.9333333333333333, 9: 0.9333333333333333}\n",
      "\n",
      "avarage Train score: {2: 0.9791666666666666, 3: 0.9874999999999999, 4: 0.9958333333333332, 5: 0.9958333333333332, 6: 1.0, 7: 1.0, 8: 1.0, 9: 1.0}\n",
      "avarage Validation score: {2: 0.9333333333333332, 3: 0.9333333333333332, 4: 0.9416666666666668, 5: 0.9416666666666668, 6: 0.9416666666666668, 7: 0.9416666666666668, 8: 0.9416666666666668, 9: 0.9416666666666668}\n",
      "avarage Test score: {2: 0.9333333333333332, 3: 0.9555555555555556, 4: 0.9555555555555556, 5: 0.9555555555555556, 6: 0.9555555555555556, 7: 0.9555555555555556, 8: 0.9555555555555556, 9: 0.9555555555555556}\n",
      "\n",
      "max_depth = 10\n",
      "Train score 1: {2: 0.9875, 3: 1.0, 4: 1.0, 5: 1.0, 6: 1.0, 7: 1.0, 8: 1.0, 9: 1.0, 10: 1.0}\n",
      "validation score 1: {2: 0.925, 3: 0.925, 4: 0.925, 5: 0.925, 6: 0.925, 7: 0.925, 8: 0.925, 9: 0.925, 10: 0.925}\n",
      "Test score 1: {2: 0.9333333333333333, 3: 0.9666666666666667, 4: 0.9666666666666667, 5: 0.9666666666666667, 6: 0.9666666666666667, 7: 0.9666666666666667, 8: 0.9666666666666667, 9: 0.9666666666666667, 10: 0.9666666666666667}\n",
      "\n",
      "Train score 2: {2: 0.9625, 3: 0.9625, 4: 0.9875, 5: 0.9875, 6: 1.0, 7: 1.0, 8: 1.0, 9: 1.0, 10: 1.0}\n",
      "validation score 2: {2: 0.95, 3: 0.95, 4: 0.975, 5: 0.975, 6: 0.975, 7: 0.975, 8: 0.975, 9: 0.975, 10: 0.975}\n",
      "Test score 2: {2: 0.9333333333333333, 3: 0.9333333333333333, 4: 0.9333333333333333, 5: 0.9333333333333333, 6: 0.9333333333333333, 7: 0.9333333333333333, 8: 0.9333333333333333, 9: 0.9333333333333333, 10: 0.9333333333333333}\n",
      "\n",
      "Train score 3: {2: 0.9625, 3: 0.975, 4: 0.975, 5: 0.9875, 6: 0.9875, 7: 0.9875, 8: 0.9875, 9: 0.9875, 10: 0.9875}\n",
      "validation score 3: {2: 0.975, 3: 0.975, 4: 0.95, 5: 0.95, 6: 0.95, 7: 0.95, 8: 0.95, 9: 0.95, 10: 0.95}\n",
      "Test score 3: {2: 0.9333333333333333, 3: 0.9333333333333333, 4: 0.9, 5: 0.9333333333333333, 6: 0.9333333333333333, 7: 0.9333333333333333, 8: 0.9333333333333333, 9: 0.9333333333333333, 10: 0.9333333333333333}\n",
      "\n",
      "avarage Train score: {2: 0.9791666666666666, 3: 0.9874999999999999, 4: 0.9958333333333332, 5: 0.9958333333333332, 6: 1.0, 7: 1.0, 8: 1.0, 9: 1.0, 10: 1.0}\n",
      "avarage Validation score: {2: 0.9333333333333332, 3: 0.9333333333333332, 4: 0.9416666666666668, 5: 0.9416666666666668, 6: 0.9416666666666668, 7: 0.9416666666666668, 8: 0.9416666666666668, 9: 0.9416666666666668, 10: 0.9416666666666668}\n",
      "avarage Test score: {2: 0.9333333333333332, 3: 0.9555555555555556, 4: 0.9555555555555556, 5: 0.9555555555555556, 6: 0.9555555555555556, 7: 0.9555555555555556, 8: 0.9555555555555556, 9: 0.9555555555555556, 10: 0.9555555555555556}\n",
      "\n"
     ]
    }
   ],
   "source": [
    "scores_train_1 = {}\n",
    "scores_val_1 = {}\n",
    "scores_test_1 = {}\n",
    "scores_train_2 = {}\n",
    "scores_val_2 = {}\n",
    "scores_test_2 = {}\n",
    "scores_train_3 = {}\n",
    "scores_val_3 = {}\n",
    "scores_test_3 = {}\n",
    "avg_scores_train = {}\n",
    "avg_scores_val = {}\n",
    "avg_scores_test = {}\n",
    "for d in range(2,11) : \n",
    "    #for k in range(1,4):\n",
    "    model = tree.DecisionTreeClassifier(random_state=42, max_depth=d)\n",
    "    model.fit(X_train_1, t_train_1)\n",
    "    scores_train_1[d] = model.score(X_train_1, t_train_1)\n",
    "    scores_val_1[d] = model.score(X_val_1, t_val_1)\n",
    "    scores_test_1[d] = model.score(X_test, t_test)\n",
    "    print(\"max_depth =\", d)\n",
    "    print(f'Train score 1: {scores_train_1}')\n",
    "    print(f'validation score 1: {scores_val_1}')\n",
    "    print(f'Test score 1: {scores_test_1}')\n",
    "    print(\"\")\n",
    "    model.fit(X_train_2, t_train_2)\n",
    "    scores_train_2[d] = model.score(X_train_2, t_train_2)\n",
    "    scores_val_2[d] = model.score(X_val_2, t_val_2)\n",
    "    scores_test_2[d] = model.score(X_test, t_test)\n",
    "    print(f'Train score 2: {scores_train_2}')\n",
    "    print(f'validation score 2: {scores_val_2}')\n",
    "    print(f'Test score 2: {scores_test_2}')\n",
    "    print(\"\")\n",
    "    model.fit(X_train_3, t_train_3)\n",
    "    scores_train_3[d] = model.score(X_train_3, t_train_3)\n",
    "    scores_val_3[d] = model.score(X_val_3, t_val_3)\n",
    "    scores_test_3[d] = model.score(X_test, t_test)\n",
    "    print(f'Train score 3: {scores_train_3}')\n",
    "    print(f'validation score 3: {scores_val_3}')\n",
    "    print(f'Test score 3: {scores_test_3}')\n",
    "    print(\"\")\n",
    "    avg_scores_train[d] = (scores_train_1[d] + scores_train_2[d] + scores_train_1[d])/3\n",
    "    avg_scores_val[d] = (scores_val_1[d] + scores_val_2[d] + scores_val_1[d])/3\n",
    "    avg_scores_test[d] = (scores_test_1[d] + scores_test_2[d] + scores_test_1[d])/3\n",
    "    print(f'avarage Train score: {avg_scores_train}')\n",
    "    print(f'avarage Validation score: {avg_scores_val}')\n",
    "    print(f'avarage Test score: {avg_scores_test}')\n",
    "    print(\"\")"
   ]
  },
  {
   "cell_type": "code",
   "execution_count": 28,
   "id": "1eda3398",
   "metadata": {},
   "outputs": [
    {
     "data": {
      "image/png": "[encoded data removed]",
      "text/plain": [
       "<Figure size 432x288 with 1 Axes>"
      ]
     },
     "metadata": {
      "needs_background": "light"
     },
     "output_type": "display_data"
    }
   ],
   "source": [
    "p1=plt.plot(avg_scores_train.values())\n",
    "p2=plt.plot(avg_scores_val.values())\n",
    "p3=plt.plot(avg_scores_test.values())\n",
    "plt.title(\"Performance par rapport à max_depth et k=3\")\n",
    "plt.xlabel(\"max_depth\")\n",
    "plt.ylabel(\"scores\")\n",
    "plt.grid(True)\n",
    "plt.xticks([0,1,2,3,4,5,6,7,8], list(avg_scores_test.keys()))\n",
    "plt.legend((p1[0],p2[0],p3[0]),(\"scores train\",\"scores validation\", \"scores test\"))\n",
    "plt.show()"
   ]
  },
  {
   "cell_type": "code",
   "execution_count": 29,
   "id": "7ed4b410",
   "metadata": {},
   "outputs": [
    {
     "name": "stdout",
     "output_type": "stream",
     "text": [
      "avarage Train score: {2: 0.9791666666666666, 3: 0.9874999999999999, 4: 0.9958333333333332, 5: 0.9958333333333332, 6: 1.0, 7: 1.0, 8: 1.0, 9: 1.0, 10: 1.0}\n",
      "\n",
      "avarage Validation score: {2: 0.9333333333333332, 3: 0.9333333333333332, 4: 0.9416666666666668, 5: 0.9416666666666668, 6: 0.9416666666666668, 7: 0.9416666666666668, 8: 0.9416666666666668, 9: 0.9416666666666668, 10: 0.9416666666666668}\n",
      "\n",
      "avarage Test score: {2: 0.9333333333333332, 3: 0.9555555555555556, 4: 0.9555555555555556, 5: 0.9555555555555556, 6: 0.9555555555555556, 7: 0.9555555555555556, 8: 0.9555555555555556, 9: 0.9555555555555556, 10: 0.9555555555555556}\n"
     ]
    }
   ],
   "source": [
    "print(f'avarage Train score: {avg_scores_train}')\n",
    "print(\"\")\n",
    "print(f'avarage Validation score: {avg_scores_val}')\n",
    "print(\"\")\n",
    "print(f'avarage Test score: {avg_scores_test}')"
   ]
  },
  {
   "cell_type": "markdown",
   "id": "60139485",
   "metadata": {},
   "source": [
    "## Focus sur le meilleur modele"
   ]
  },
  {
   "cell_type": "code",
   "execution_count": null,
   "id": "1159ca08",
   "metadata": {},
   "outputs": [],
   "source": [
    "#focus sur le model à la meilleur profondeur\n",
    "best_model= decisiontreeclass(42, max_depth=best_depth)"
   ]
  },
  {
   "cell_type": "code",
   "execution_count": null,
   "id": "78be31e8",
   "metadata": {},
   "outputs": [],
   "source": []
  },
  {
   "cell_type": "code",
   "execution_count": null,
   "id": "a4b71c7e",
   "metadata": {},
   "outputs": [],
   "source": []
  },
  {
   "cell_type": "code",
   "execution_count": null,
   "id": "08f28a00",
   "metadata": {},
   "outputs": [],
   "source": []
  },
  {
   "cell_type": "code",
   "execution_count": null,
   "id": "405e2655",
   "metadata": {},
   "outputs": [],
   "source": []
  },
  {
   "cell_type": "markdown",
   "id": "edec6657",
   "metadata": {},
   "source": [
    "# automatisation l'apprentissage du modèle avec GridSearchCV() et 3-fold CV"
   ]
  },
  {
   "cell_type": "markdown",
   "id": "4402cc5d",
   "metadata": {},
   "source": [
    "Vous pouvez maintenant ré-implémenter la recherche par grille de l'hyperparamètre selon un schéma de \"3-fold cross-validation\" en utilisant la fonction GridSearchCV() de scikit-learn. Cette fonction est redoutable, elle va changer à jamais votre carrière de Développeur.e en Intelligence Artificielle !"
   ]
  },
  {
   "cell_type": "markdown",
   "id": "f665adc4",
   "metadata": {},
   "source": [
    "### modéle avec DecisionTreeClassifier()"
   ]
  },
  {
   "cell_type": "code",
   "execution_count": 51,
   "id": "dc284d5a",
   "metadata": {},
   "outputs": [
    {
     "data": {
      "text/html": [
       "<div>\n",
       "<style scoped>\n",
       "    .dataframe tbody tr th:only-of-type {\n",
       "        vertical-align: middle;\n",
       "    }\n",
       "\n",
       "    .dataframe tbody tr th {\n",
       "        vertical-align: top;\n",
       "    }\n",
       "\n",
       "    .dataframe thead th {\n",
       "        text-align: right;\n",
       "    }\n",
       "</style>\n",
       "<table border=\"1\" class=\"dataframe\">\n",
       "  <thead>\n",
       "    <tr style=\"text-align: right;\">\n",
       "      <th></th>\n",
       "      <th>0</th>\n",
       "      <th>1</th>\n",
       "      <th>2</th>\n",
       "      <th>3</th>\n",
       "      <th>4</th>\n",
       "      <th>5</th>\n",
       "      <th>6</th>\n",
       "      <th>7</th>\n",
       "      <th>8</th>\n",
       "    </tr>\n",
       "  </thead>\n",
       "  <tbody>\n",
       "    <tr>\n",
       "      <th>mean_fit_time</th>\n",
       "      <td>0.002661</td>\n",
       "      <td>0.005333</td>\n",
       "      <td>0.002669</td>\n",
       "      <td>0.002671</td>\n",
       "      <td>0.002667</td>\n",
       "      <td>0.005342</td>\n",
       "      <td>0.0</td>\n",
       "      <td>0.00267</td>\n",
       "      <td>0.0</td>\n",
       "    </tr>\n",
       "    <tr>\n",
       "      <th>std_fit_time</th>\n",
       "      <td>0.003763</td>\n",
       "      <td>0.003771</td>\n",
       "      <td>0.003775</td>\n",
       "      <td>0.003778</td>\n",
       "      <td>0.003772</td>\n",
       "      <td>0.003778</td>\n",
       "      <td>0.0</td>\n",
       "      <td>0.003776</td>\n",
       "      <td>0.0</td>\n",
       "    </tr>\n",
       "    <tr>\n",
       "      <th>mean_score_time</th>\n",
       "      <td>0.0</td>\n",
       "      <td>0.0</td>\n",
       "      <td>0.0</td>\n",
       "      <td>0.002663</td>\n",
       "      <td>0.0</td>\n",
       "      <td>0.0</td>\n",
       "      <td>0.002669</td>\n",
       "      <td>0.0</td>\n",
       "      <td>0.0</td>\n",
       "    </tr>\n",
       "    <tr>\n",
       "      <th>std_score_time</th>\n",
       "      <td>0.0</td>\n",
       "      <td>0.0</td>\n",
       "      <td>0.0</td>\n",
       "      <td>0.003766</td>\n",
       "      <td>0.0</td>\n",
       "      <td>0.0</td>\n",
       "      <td>0.003775</td>\n",
       "      <td>0.0</td>\n",
       "      <td>0.0</td>\n",
       "    </tr>\n",
       "    <tr>\n",
       "      <th>param_max_depth</th>\n",
       "      <td>1</td>\n",
       "      <td>2</td>\n",
       "      <td>3</td>\n",
       "      <td>4</td>\n",
       "      <td>5</td>\n",
       "      <td>6</td>\n",
       "      <td>7</td>\n",
       "      <td>8</td>\n",
       "      <td>9</td>\n",
       "    </tr>\n",
       "    <tr>\n",
       "      <th>params</th>\n",
       "      <td>{'max_depth': 1}</td>\n",
       "      <td>{'max_depth': 2}</td>\n",
       "      <td>{'max_depth': 3}</td>\n",
       "      <td>{'max_depth': 4}</td>\n",
       "      <td>{'max_depth': 5}</td>\n",
       "      <td>{'max_depth': 6}</td>\n",
       "      <td>{'max_depth': 7}</td>\n",
       "      <td>{'max_depth': 8}</td>\n",
       "      <td>{'max_depth': 9}</td>\n",
       "    </tr>\n",
       "    <tr>\n",
       "      <th>split0_test_score</th>\n",
       "      <td>0.675</td>\n",
       "      <td>0.925</td>\n",
       "      <td>0.95</td>\n",
       "      <td>0.975</td>\n",
       "      <td>0.975</td>\n",
       "      <td>0.95</td>\n",
       "      <td>0.975</td>\n",
       "      <td>0.95</td>\n",
       "      <td>0.975</td>\n",
       "    </tr>\n",
       "    <tr>\n",
       "      <th>split1_test_score</th>\n",
       "      <td>0.65</td>\n",
       "      <td>0.925</td>\n",
       "      <td>0.925</td>\n",
       "      <td>0.925</td>\n",
       "      <td>0.925</td>\n",
       "      <td>0.925</td>\n",
       "      <td>0.925</td>\n",
       "      <td>0.925</td>\n",
       "      <td>0.925</td>\n",
       "    </tr>\n",
       "    <tr>\n",
       "      <th>split2_test_score</th>\n",
       "      <td>0.65</td>\n",
       "      <td>0.95</td>\n",
       "      <td>1.0</td>\n",
       "      <td>0.95</td>\n",
       "      <td>0.95</td>\n",
       "      <td>0.975</td>\n",
       "      <td>0.95</td>\n",
       "      <td>0.95</td>\n",
       "      <td>0.975</td>\n",
       "    </tr>\n",
       "    <tr>\n",
       "      <th>mean_test_score</th>\n",
       "      <td>0.658333</td>\n",
       "      <td>0.933333</td>\n",
       "      <td>0.958333</td>\n",
       "      <td>0.95</td>\n",
       "      <td>0.95</td>\n",
       "      <td>0.95</td>\n",
       "      <td>0.95</td>\n",
       "      <td>0.941667</td>\n",
       "      <td>0.958333</td>\n",
       "    </tr>\n",
       "    <tr>\n",
       "      <th>std_test_score</th>\n",
       "      <td>0.011785</td>\n",
       "      <td>0.011785</td>\n",
       "      <td>0.03118</td>\n",
       "      <td>0.020412</td>\n",
       "      <td>0.020412</td>\n",
       "      <td>0.020412</td>\n",
       "      <td>0.020412</td>\n",
       "      <td>0.011785</td>\n",
       "      <td>0.02357</td>\n",
       "    </tr>\n",
       "    <tr>\n",
       "      <th>rank_test_score</th>\n",
       "      <td>9</td>\n",
       "      <td>8</td>\n",
       "      <td>1</td>\n",
       "      <td>4</td>\n",
       "      <td>4</td>\n",
       "      <td>3</td>\n",
       "      <td>4</td>\n",
       "      <td>7</td>\n",
       "      <td>1</td>\n",
       "    </tr>\n",
       "    <tr>\n",
       "      <th>split0_train_score</th>\n",
       "      <td>0.6625</td>\n",
       "      <td>0.9625</td>\n",
       "      <td>0.9625</td>\n",
       "      <td>0.975</td>\n",
       "      <td>0.975</td>\n",
       "      <td>0.9875</td>\n",
       "      <td>0.9875</td>\n",
       "      <td>0.9875</td>\n",
       "      <td>0.9875</td>\n",
       "    </tr>\n",
       "    <tr>\n",
       "      <th>split1_train_score</th>\n",
       "      <td>0.675</td>\n",
       "      <td>0.9875</td>\n",
       "      <td>1.0</td>\n",
       "      <td>1.0</td>\n",
       "      <td>1.0</td>\n",
       "      <td>1.0</td>\n",
       "      <td>1.0</td>\n",
       "      <td>1.0</td>\n",
       "      <td>1.0</td>\n",
       "    </tr>\n",
       "    <tr>\n",
       "      <th>split2_train_score</th>\n",
       "      <td>0.675</td>\n",
       "      <td>0.9625</td>\n",
       "      <td>0.975</td>\n",
       "      <td>0.975</td>\n",
       "      <td>1.0</td>\n",
       "      <td>1.0</td>\n",
       "      <td>1.0</td>\n",
       "      <td>1.0</td>\n",
       "      <td>1.0</td>\n",
       "    </tr>\n",
       "    <tr>\n",
       "      <th>mean_train_score</th>\n",
       "      <td>0.670833</td>\n",
       "      <td>0.970833</td>\n",
       "      <td>0.979167</td>\n",
       "      <td>0.983333</td>\n",
       "      <td>0.991667</td>\n",
       "      <td>0.995833</td>\n",
       "      <td>0.995833</td>\n",
       "      <td>0.995833</td>\n",
       "      <td>0.995833</td>\n",
       "    </tr>\n",
       "    <tr>\n",
       "      <th>std_train_score</th>\n",
       "      <td>0.005893</td>\n",
       "      <td>0.011785</td>\n",
       "      <td>0.01559</td>\n",
       "      <td>0.011785</td>\n",
       "      <td>0.011785</td>\n",
       "      <td>0.005893</td>\n",
       "      <td>0.005893</td>\n",
       "      <td>0.005893</td>\n",
       "      <td>0.005893</td>\n",
       "    </tr>\n",
       "  </tbody>\n",
       "</table>\n",
       "</div>"
      ],
      "text/plain": [
       "                                   0                 1                 2  \\\n",
       "mean_fit_time               0.002661          0.005333          0.002669   \n",
       "std_fit_time                0.003763          0.003771          0.003775   \n",
       "mean_score_time                  0.0               0.0               0.0   \n",
       "std_score_time                   0.0               0.0               0.0   \n",
       "param_max_depth                    1                 2                 3   \n",
       "params              {'max_depth': 1}  {'max_depth': 2}  {'max_depth': 3}   \n",
       "split0_test_score              0.675             0.925              0.95   \n",
       "split1_test_score               0.65             0.925             0.925   \n",
       "split2_test_score               0.65              0.95               1.0   \n",
       "mean_test_score             0.658333          0.933333          0.958333   \n",
       "std_test_score              0.011785          0.011785           0.03118   \n",
       "rank_test_score                    9                 8                 1   \n",
       "split0_train_score            0.6625            0.9625            0.9625   \n",
       "split1_train_score             0.675            0.9875               1.0   \n",
       "split2_train_score             0.675            0.9625             0.975   \n",
       "mean_train_score            0.670833          0.970833          0.979167   \n",
       "std_train_score             0.005893          0.011785           0.01559   \n",
       "\n",
       "                                   3                 4                 5  \\\n",
       "mean_fit_time               0.002671          0.002667          0.005342   \n",
       "std_fit_time                0.003778          0.003772          0.003778   \n",
       "mean_score_time             0.002663               0.0               0.0   \n",
       "std_score_time              0.003766               0.0               0.0   \n",
       "param_max_depth                    4                 5                 6   \n",
       "params              {'max_depth': 4}  {'max_depth': 5}  {'max_depth': 6}   \n",
       "split0_test_score              0.975             0.975              0.95   \n",
       "split1_test_score              0.925             0.925             0.925   \n",
       "split2_test_score               0.95              0.95             0.975   \n",
       "mean_test_score                 0.95              0.95              0.95   \n",
       "std_test_score              0.020412          0.020412          0.020412   \n",
       "rank_test_score                    4                 4                 3   \n",
       "split0_train_score             0.975             0.975            0.9875   \n",
       "split1_train_score               1.0               1.0               1.0   \n",
       "split2_train_score             0.975               1.0               1.0   \n",
       "mean_train_score            0.983333          0.991667          0.995833   \n",
       "std_train_score             0.011785          0.011785          0.005893   \n",
       "\n",
       "                                   6                 7                 8  \n",
       "mean_fit_time                    0.0           0.00267               0.0  \n",
       "std_fit_time                     0.0          0.003776               0.0  \n",
       "mean_score_time             0.002669               0.0               0.0  \n",
       "std_score_time              0.003775               0.0               0.0  \n",
       "param_max_depth                    7                 8                 9  \n",
       "params              {'max_depth': 7}  {'max_depth': 8}  {'max_depth': 9}  \n",
       "split0_test_score              0.975              0.95             0.975  \n",
       "split1_test_score              0.925             0.925             0.925  \n",
       "split2_test_score               0.95              0.95             0.975  \n",
       "mean_test_score                 0.95          0.941667          0.958333  \n",
       "std_test_score              0.020412          0.011785           0.02357  \n",
       "rank_test_score                    4                 7                 1  \n",
       "split0_train_score            0.9875            0.9875            0.9875  \n",
       "split1_train_score               1.0               1.0               1.0  \n",
       "split2_train_score               1.0               1.0               1.0  \n",
       "mean_train_score            0.995833          0.995833          0.995833  \n",
       "std_train_score             0.005893          0.005893          0.005893  "
      ]
     },
     "execution_count": 51,
     "metadata": {},
     "output_type": "execute_result"
    }
   ],
   "source": [
    "# estimator is the model\n",
    "\n",
    "estimator = DecisionTreeClassifier()\n",
    "\n",
    "# params_grid is Range to search for hyperparameters\n",
    "\n",
    "hyper_parameters_grid = [{ \n",
    "    'max_depth': list(range(1, 10)), \n",
    "}]\n",
    "\n",
    "# cv is K\n",
    "cv = 3\n",
    "\n",
    "# declaration de model\n",
    "\n",
    "clf = GridSearchCV(estimator = estimator, \n",
    "                           param_grid=hyper_parameters_grid,\n",
    "                           cv=cv,\n",
    "                           return_train_score=True)\n",
    "\n",
    "# train and validate the model\n",
    "\n",
    "clf.fit(X_train_val, t_train_val)\n",
    "\n",
    "# to see the performance (result)\"\n",
    "#cv=cross_validate(clf, X_train_val, t_train_val)\n",
    "#print(cv)\n",
    "\n",
    "\n",
    "# the result is in cv_results_. To see better, changed to dataframe\n",
    "\n",
    "results=pd.DataFrame(clf.cv_results_)\n",
    "results.T"
   ]
  },
  {
   "cell_type": "code",
   "execution_count": 52,
   "id": "da4d679a",
   "metadata": {},
   "outputs": [
    {
     "name": "stdout",
     "output_type": "stream",
     "text": [
      "validation score vs max_depth 0    0.658333\n",
      "1    0.933333\n",
      "2    0.958333\n",
      "3    0.950000\n",
      "4    0.950000\n",
      "5    0.950000\n",
      "6    0.950000\n",
      "7    0.941667\n",
      "8    0.958333\n",
      "Name: mean_test_score, dtype: float64\n"
     ]
    },
    {
     "data": {
      "image/png": "[encoded data removed]",
      "text/plain": [
       "<Figure size 700x400 with 1 Axes>"
      ]
     },
     "metadata": {
      "needs_background": "light"
     },
     "output_type": "display_data"
    }
   ],
   "source": [
    "plt.figure(figsize=(7, 4), dpi=100)\n",
    "p=plt.plot(results.mean_test_score)\n",
    "plt.title(\"Performance par rapport à max_depth et k=3\")\n",
    "plt.xlabel(\"max_depth\")\n",
    "plt.ylabel(\"scores\")\n",
    "plt.grid(True)\n",
    "#plt.xticks([1,2,3,4,5,6,7,8,9,10], list(t.mean_test_score.keys()))\n",
    "plt.xticks([0,1,2,3,4,5,6,7,8,9], [1,2,3,4,5,6,7,8,9,10])\n",
    "#plt.legend((p1[0],p2[0],p3[0]),(\"scores train\",\"scores validation\", \"scores test\"))\n",
    "print('validation score vs max_depth', results.mean_test_score)\n",
    "plt.show()"
   ]
  },
  {
   "cell_type": "code",
   "execution_count": 32,
   "id": "a5b63e4a",
   "metadata": {},
   "outputs": [
    {
     "data": {
      "text/plain": [
       "{'max_depth': 3}"
      ]
     },
     "execution_count": 32,
     "metadata": {},
     "output_type": "execute_result"
    }
   ],
   "source": [
    "# to see the best hyperparameters\n",
    "\n",
    "clf.best_params_"
   ]
  },
  {
   "cell_type": "code",
   "execution_count": 33,
   "id": "917a13fb",
   "metadata": {},
   "outputs": [
    {
     "data": {
      "text/plain": [
       "0.9583333333333334"
      ]
     },
     "execution_count": 33,
     "metadata": {},
     "output_type": "execute_result"
    }
   ],
   "source": [
    "# to see the best validation score\n",
    "\n",
    "clf.best_score_"
   ]
  },
  {
   "cell_type": "code",
   "execution_count": 34,
   "id": "6e7ced34",
   "metadata": {},
   "outputs": [
    {
     "data": {
      "text/plain": [
       "DecisionTreeClassifier(max_depth=3)"
      ]
     },
     "execution_count": 34,
     "metadata": {},
     "output_type": "execute_result"
    }
   ],
   "source": [
    "# to see the best model\n",
    "\n",
    "best_model = clf.best_estimator_\n",
    "best_model"
   ]
  },
  {
   "cell_type": "code",
   "execution_count": null,
   "id": "5d2c0066",
   "metadata": {},
   "outputs": [],
   "source": []
  },
  {
   "cell_type": "code",
   "execution_count": 35,
   "id": "eb062ff2",
   "metadata": {},
   "outputs": [
    {
     "name": "stdout",
     "output_type": "stream",
     "text": [
      "train_val score: 0.9833333333333333\n",
      "test score: 0.9666666666666667\n"
     ]
    }
   ],
   "source": [
    "# Obtenez le modèle avec la meilleure score\n",
    "\n",
    "print(f'train_val score: {best_model.score(X_train_val, t_train_val)}')\n",
    "print(f'test score: {best_model.score(X_test, t_test)}')"
   ]
  },
  {
   "cell_type": "markdown",
   "id": "d00612f9",
   "metadata": {},
   "source": [
    "## Conclusion pour DecisionTreeClassifier() avec GridSearchCV() et 3-fold CV de sklearn"
   ]
  },
  {
   "cell_type": "markdown",
   "id": "a9abcea5",
   "metadata": {},
   "source": [
    "    Le meilleur modèle avec DecisionTreeClassifier() est DecisionTreeClassifier(max_depth=3).\n",
    "    Le meilleur train score est d 0.9833333333333333\n",
    "    Le meilleur validation score est de 0.9583333333333334\n",
    "    Le meilleur test socre est de       0.9666666666666667"
   ]
  },
  {
   "cell_type": "markdown",
   "id": "59fbfc67",
   "metadata": {},
   "source": [
    "## Matrix de confusion"
   ]
  },
  {
   "cell_type": "code",
   "execution_count": null,
   "id": "9c3ce64f",
   "metadata": {},
   "outputs": [],
   "source": [
    "#cm = confusion_matrix(y_true, y_pred)\n"
   ]
  },
  {
   "cell_type": "code",
   "execution_count": null,
   "id": "f61c1964",
   "metadata": {},
   "outputs": [],
   "source": [
    "best_model.pred(X_train_val)"
   ]
  },
  {
   "cell_type": "code",
   "execution_count": null,
   "id": "c5948385",
   "metadata": {},
   "outputs": [],
   "source": []
  },
  {
   "cell_type": "markdown",
   "id": "7f79b781",
   "metadata": {},
   "source": [
    "# modéle avec KNeighborsClassifier() K-近傍法"
   ]
  },
  {
   "cell_type": "markdown",
   "id": "35063b42",
   "metadata": {},
   "source": [
    "J'ai vérifié le performance avec K-Nearest Neighbor Algorithm"
   ]
  },
  {
   "cell_type": "code",
   "execution_count": 36,
   "id": "73debd73",
   "metadata": {},
   "outputs": [],
   "source": [
    "from sklearn.neighbors import KNeighborsClassifier"
   ]
  },
  {
   "cell_type": "code",
   "execution_count": 37,
   "id": "20a79fe7",
   "metadata": {},
   "outputs": [
    {
     "data": {
      "text/html": [
       "<div>\n",
       "<style scoped>\n",
       "    .dataframe tbody tr th:only-of-type {\n",
       "        vertical-align: middle;\n",
       "    }\n",
       "\n",
       "    .dataframe tbody tr th {\n",
       "        vertical-align: top;\n",
       "    }\n",
       "\n",
       "    .dataframe thead th {\n",
       "        text-align: right;\n",
       "    }\n",
       "</style>\n",
       "<table border=\"1\" class=\"dataframe\">\n",
       "  <thead>\n",
       "    <tr style=\"text-align: right;\">\n",
       "      <th></th>\n",
       "      <th>0</th>\n",
       "      <th>1</th>\n",
       "      <th>2</th>\n",
       "      <th>3</th>\n",
       "      <th>4</th>\n",
       "      <th>5</th>\n",
       "      <th>6</th>\n",
       "      <th>7</th>\n",
       "      <th>8</th>\n",
       "    </tr>\n",
       "  </thead>\n",
       "  <tbody>\n",
       "    <tr>\n",
       "      <th>mean_fit_time</th>\n",
       "      <td>0.000993</td>\n",
       "      <td>0.000658</td>\n",
       "      <td>0.001007</td>\n",
       "      <td>0.0</td>\n",
       "      <td>0.000333</td>\n",
       "      <td>0.000334</td>\n",
       "      <td>0.000344</td>\n",
       "      <td>0.000658</td>\n",
       "      <td>0.0</td>\n",
       "    </tr>\n",
       "    <tr>\n",
       "      <th>std_fit_time</th>\n",
       "      <td>0.00001</td>\n",
       "      <td>0.000465</td>\n",
       "      <td>0.00003</td>\n",
       "      <td>0.0</td>\n",
       "      <td>0.000471</td>\n",
       "      <td>0.000473</td>\n",
       "      <td>0.000486</td>\n",
       "      <td>0.000465</td>\n",
       "      <td>0.0</td>\n",
       "    </tr>\n",
       "    <tr>\n",
       "      <th>mean_score_time</th>\n",
       "      <td>0.002674</td>\n",
       "      <td>0.001684</td>\n",
       "      <td>0.002337</td>\n",
       "      <td>0.002676</td>\n",
       "      <td>0.001999</td>\n",
       "      <td>0.002339</td>\n",
       "      <td>0.001989</td>\n",
       "      <td>0.001679</td>\n",
       "      <td>0.002009</td>\n",
       "    </tr>\n",
       "    <tr>\n",
       "      <th>std_score_time</th>\n",
       "      <td>0.00171</td>\n",
       "      <td>0.000465</td>\n",
       "      <td>0.000947</td>\n",
       "      <td>0.000955</td>\n",
       "      <td>0.00079</td>\n",
       "      <td>0.00048</td>\n",
       "      <td>0.000808</td>\n",
       "      <td>0.000937</td>\n",
       "      <td>0.000019</td>\n",
       "    </tr>\n",
       "    <tr>\n",
       "      <th>param_n_neighbors</th>\n",
       "      <td>1</td>\n",
       "      <td>2</td>\n",
       "      <td>3</td>\n",
       "      <td>4</td>\n",
       "      <td>5</td>\n",
       "      <td>6</td>\n",
       "      <td>7</td>\n",
       "      <td>8</td>\n",
       "      <td>9</td>\n",
       "    </tr>\n",
       "    <tr>\n",
       "      <th>params</th>\n",
       "      <td>{'n_neighbors': 1}</td>\n",
       "      <td>{'n_neighbors': 2}</td>\n",
       "      <td>{'n_neighbors': 3}</td>\n",
       "      <td>{'n_neighbors': 4}</td>\n",
       "      <td>{'n_neighbors': 5}</td>\n",
       "      <td>{'n_neighbors': 6}</td>\n",
       "      <td>{'n_neighbors': 7}</td>\n",
       "      <td>{'n_neighbors': 8}</td>\n",
       "      <td>{'n_neighbors': 9}</td>\n",
       "    </tr>\n",
       "    <tr>\n",
       "      <th>split0_test_score</th>\n",
       "      <td>0.975</td>\n",
       "      <td>0.95</td>\n",
       "      <td>0.95</td>\n",
       "      <td>0.95</td>\n",
       "      <td>0.975</td>\n",
       "      <td>0.95</td>\n",
       "      <td>0.975</td>\n",
       "      <td>0.975</td>\n",
       "      <td>0.975</td>\n",
       "    </tr>\n",
       "    <tr>\n",
       "      <th>split1_test_score</th>\n",
       "      <td>0.9</td>\n",
       "      <td>0.95</td>\n",
       "      <td>0.95</td>\n",
       "      <td>0.95</td>\n",
       "      <td>0.925</td>\n",
       "      <td>0.925</td>\n",
       "      <td>0.925</td>\n",
       "      <td>0.925</td>\n",
       "      <td>0.925</td>\n",
       "    </tr>\n",
       "    <tr>\n",
       "      <th>split2_test_score</th>\n",
       "      <td>0.95</td>\n",
       "      <td>0.95</td>\n",
       "      <td>1.0</td>\n",
       "      <td>1.0</td>\n",
       "      <td>1.0</td>\n",
       "      <td>1.0</td>\n",
       "      <td>1.0</td>\n",
       "      <td>1.0</td>\n",
       "      <td>1.0</td>\n",
       "    </tr>\n",
       "    <tr>\n",
       "      <th>mean_test_score</th>\n",
       "      <td>0.941667</td>\n",
       "      <td>0.95</td>\n",
       "      <td>0.966667</td>\n",
       "      <td>0.966667</td>\n",
       "      <td>0.966667</td>\n",
       "      <td>0.958333</td>\n",
       "      <td>0.966667</td>\n",
       "      <td>0.966667</td>\n",
       "      <td>0.966667</td>\n",
       "    </tr>\n",
       "    <tr>\n",
       "      <th>std_test_score</th>\n",
       "      <td>0.03118</td>\n",
       "      <td>0.0</td>\n",
       "      <td>0.02357</td>\n",
       "      <td>0.02357</td>\n",
       "      <td>0.03118</td>\n",
       "      <td>0.03118</td>\n",
       "      <td>0.03118</td>\n",
       "      <td>0.03118</td>\n",
       "      <td>0.03118</td>\n",
       "    </tr>\n",
       "    <tr>\n",
       "      <th>rank_test_score</th>\n",
       "      <td>9</td>\n",
       "      <td>8</td>\n",
       "      <td>1</td>\n",
       "      <td>1</td>\n",
       "      <td>1</td>\n",
       "      <td>7</td>\n",
       "      <td>1</td>\n",
       "      <td>1</td>\n",
       "      <td>1</td>\n",
       "    </tr>\n",
       "  </tbody>\n",
       "</table>\n",
       "</div>"
      ],
      "text/plain": [
       "                                    0                   1                   2  \\\n",
       "mean_fit_time                0.000993            0.000658            0.001007   \n",
       "std_fit_time                  0.00001            0.000465             0.00003   \n",
       "mean_score_time              0.002674            0.001684            0.002337   \n",
       "std_score_time                0.00171            0.000465            0.000947   \n",
       "param_n_neighbors                   1                   2                   3   \n",
       "params             {'n_neighbors': 1}  {'n_neighbors': 2}  {'n_neighbors': 3}   \n",
       "split0_test_score               0.975                0.95                0.95   \n",
       "split1_test_score                 0.9                0.95                0.95   \n",
       "split2_test_score                0.95                0.95                 1.0   \n",
       "mean_test_score              0.941667                0.95            0.966667   \n",
       "std_test_score                0.03118                 0.0             0.02357   \n",
       "rank_test_score                     9                   8                   1   \n",
       "\n",
       "                                    3                   4                   5  \\\n",
       "mean_fit_time                     0.0            0.000333            0.000334   \n",
       "std_fit_time                      0.0            0.000471            0.000473   \n",
       "mean_score_time              0.002676            0.001999            0.002339   \n",
       "std_score_time               0.000955             0.00079             0.00048   \n",
       "param_n_neighbors                   4                   5                   6   \n",
       "params             {'n_neighbors': 4}  {'n_neighbors': 5}  {'n_neighbors': 6}   \n",
       "split0_test_score                0.95               0.975                0.95   \n",
       "split1_test_score                0.95               0.925               0.925   \n",
       "split2_test_score                 1.0                 1.0                 1.0   \n",
       "mean_test_score              0.966667            0.966667            0.958333   \n",
       "std_test_score                0.02357             0.03118             0.03118   \n",
       "rank_test_score                     1                   1                   7   \n",
       "\n",
       "                                    6                   7                   8  \n",
       "mean_fit_time                0.000344            0.000658                 0.0  \n",
       "std_fit_time                 0.000486            0.000465                 0.0  \n",
       "mean_score_time              0.001989            0.001679            0.002009  \n",
       "std_score_time               0.000808            0.000937            0.000019  \n",
       "param_n_neighbors                   7                   8                   9  \n",
       "params             {'n_neighbors': 7}  {'n_neighbors': 8}  {'n_neighbors': 9}  \n",
       "split0_test_score               0.975               0.975               0.975  \n",
       "split1_test_score               0.925               0.925               0.925  \n",
       "split2_test_score                 1.0                 1.0                 1.0  \n",
       "mean_test_score              0.966667            0.966667            0.966667  \n",
       "std_test_score                0.03118             0.03118             0.03118  \n",
       "rank_test_score                     1                   1                   1  "
      ]
     },
     "execution_count": 37,
     "metadata": {},
     "output_type": "execute_result"
    }
   ],
   "source": [
    "# estimator is the model\n",
    "\n",
    "estimator_n = KNeighborsClassifier()\n",
    "\n",
    "# params_grid is Range to search for hyperparameters\n",
    "\n",
    "param_grid_n = [{ \n",
    "    'n_neighbors': list(range(1, 10)), \n",
    "}]\n",
    "\n",
    "# cv is K\n",
    "cv = 3\n",
    "\n",
    "# declaration de model\n",
    "\n",
    "clf_n = GridSearchCV(estimator = estimator_n, \n",
    "                           param_grid=param_grid_n,\n",
    "                           cv=cv,\n",
    "                           return_train_score=False)\n",
    "\n",
    "# train and validate the model\n",
    "\n",
    "clf_n.fit(X_train_val, t_train_val)\n",
    "\n",
    "# the result is in cv_results_. To see better, changed to dataframe\n",
    "\n",
    "results_n=pd.DataFrame(clf_n.cv_results_).T\n",
    "results_n"
   ]
  },
  {
   "cell_type": "code",
   "execution_count": 38,
   "id": "6744fc49",
   "metadata": {},
   "outputs": [
    {
     "data": {
      "text/plain": [
       "0.9666666666666667"
      ]
     },
     "execution_count": 38,
     "metadata": {},
     "output_type": "execute_result"
    }
   ],
   "source": [
    "# to see the best validation score\n",
    "\n",
    "clf_n.best_score_"
   ]
  },
  {
   "cell_type": "code",
   "execution_count": 39,
   "id": "130a4010",
   "metadata": {},
   "outputs": [
    {
     "data": {
      "text/plain": [
       "KNeighborsClassifier(n_neighbors=3)"
      ]
     },
     "execution_count": 39,
     "metadata": {},
     "output_type": "execute_result"
    }
   ],
   "source": [
    "# choix de la meilleur modéle\n",
    "\n",
    "best_model_n = clf_n.best_estimator_\n",
    "best_model_n"
   ]
  },
  {
   "cell_type": "code",
   "execution_count": 40,
   "id": "2c440f08",
   "metadata": {},
   "outputs": [
    {
     "name": "stdout",
     "output_type": "stream",
     "text": [
      "train_val score: 0.9666666666666667\n",
      "test score: 0.9666666666666667\n"
     ]
    }
   ],
   "source": [
    "# le meilleure score avec la meilleur modéle séléctionée par grid search\n",
    "\n",
    "print(f'train_val score: {best_model_n.score(X_train_val, t_train_val)}')\n",
    "print(f'test score: {best_model_n.score(X_test, t_test)}')"
   ]
  },
  {
   "cell_type": "code",
   "execution_count": 41,
   "id": "485efe4a",
   "metadata": {},
   "outputs": [
    {
     "name": "stdout",
     "output_type": "stream",
     "text": [
      "train_val score: 0.9666666666666667\n",
      "\n",
      "test score: 0.9666666666666667\n"
     ]
    }
   ],
   "source": [
    "# score with grid search\n",
    "\n",
    "print(f'train_val score: {best_model_n.score(X_train_val, t_train_val)}')\n",
    "\"\"\"print(\"\")\n",
    "print(f'train_1 score: {best_model_n.score(X_train_1, t_train_1)}')\n",
    "print(f'train_2 score: {best_model_n.score(X_train_2, t_train_2)}')\n",
    "print(f'train_3 score: {best_model_n.score(X_train_3, t_train_3)}')\n",
    "print(\"\")\n",
    "print(f'val_1 score: {best_model_n.score(X_val_1, t_val_1)}')\n",
    "print(f'val_2 score: {best_model_n.score(X_val_2, t_val_2)}')\n",
    "print(f'val_3 score: {best_model_n.score(X_val_3, t_val_3)}')\"\"\"\n",
    "print(\"\")\n",
    "print(f'test score: {best_model_n.score(X_test, t_test)}')"
   ]
  },
  {
   "cell_type": "markdown",
   "id": "76e956ed",
   "metadata": {},
   "source": [
    "## Conclusion pour KNeighborsClassifier() avec GridSearchCV() et 3-fold CV de sklearn"
   ]
  },
  {
   "cell_type": "markdown",
   "id": "a062adee",
   "metadata": {},
   "source": [
    "    Le meilleur modèle avec KNeighborsClassifier() est KNeighborsClassifier(n_neighbors=3).\n",
    "    Le meilleur train score est de 0.9666666666666667\n",
    "    Le meilleur validation score est de 0.9666666666666667\n",
    "    Le meilleur test socre est de       0.9666666666666667"
   ]
  },
  {
   "cell_type": "code",
   "execution_count": null,
   "id": "81ae6fd5",
   "metadata": {},
   "outputs": [],
   "source": []
  },
  {
   "cell_type": "code",
   "execution_count": null,
   "id": "51bc9f43",
   "metadata": {},
   "outputs": [],
   "source": []
  },
  {
   "cell_type": "code",
   "execution_count": null,
   "id": "8262b8ee",
   "metadata": {},
   "outputs": [],
   "source": []
  },
  {
   "cell_type": "markdown",
   "id": "7de3e460",
   "metadata": {},
   "source": [
    "Random Forest"
   ]
  },
  {
   "cell_type": "code",
   "execution_count": null,
   "id": "d29be8d6",
   "metadata": {},
   "outputs": [],
   "source": []
  },
  {
   "cell_type": "code",
   "execution_count": null,
   "id": "51c255e4",
   "metadata": {},
   "outputs": [],
   "source": []
  },
  {
   "cell_type": "code",
   "execution_count": null,
   "id": "3e1513f0",
   "metadata": {},
   "outputs": [],
   "source": []
  },
  {
   "cell_type": "code",
   "execution_count": null,
   "id": "885b0b2d",
   "metadata": {},
   "outputs": [],
   "source": []
  },
  {
   "cell_type": "code",
   "execution_count": null,
   "id": "3e8aaf3e",
   "metadata": {},
   "outputs": [],
   "source": []
  },
  {
   "cell_type": "code",
   "execution_count": null,
   "id": "568188ad",
   "metadata": {},
   "outputs": [],
   "source": []
  },
  {
   "cell_type": "code",
   "execution_count": null,
   "id": "76a1e8f8",
   "metadata": {},
   "outputs": [],
   "source": []
  },
  {
   "cell_type": "code",
   "execution_count": null,
   "id": "7b780288",
   "metadata": {},
   "outputs": [],
   "source": []
  },
  {
   "cell_type": "code",
   "execution_count": null,
   "id": "68bc4636",
   "metadata": {},
   "outputs": [],
   "source": []
  },
  {
   "cell_type": "code",
   "execution_count": null,
   "id": "3051213c",
   "metadata": {},
   "outputs": [],
   "source": []
  },
  {
   "cell_type": "code",
   "execution_count": null,
   "id": "d186d7ed",
   "metadata": {},
   "outputs": [],
   "source": []
  }
 ],
 "metadata": {
  "kernelspec": {
   "display_name": "Python 3 (ipykernel)",
   "language": "python",
   "name": "python3"
  },
  "language_info": {
   "codemirror_mode": {
    "name": "ipython",
    "version": 3
   },
   "file_extension": ".py",
   "mimetype": "text/x-python",
   "name": "python",
   "nbconvert_exporter": "python",
   "pygments_lexer": "ipython3",
   "version": "3.8.12"
  }
 },
 "nbformat": 4,
 "nbformat_minor": 5
}
